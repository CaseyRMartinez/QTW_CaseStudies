{
 "cells": [
  {
   "cell_type": "markdown",
   "metadata": {},
   "source": [
    "## Setup"
   ]
  },
  {
   "cell_type": "code",
   "execution_count": 1,
   "metadata": {},
   "outputs": [
    {
     "data": {
      "text/html": [
       "<div>\n",
       "<style scoped>\n",
       "    .dataframe tbody tr th:only-of-type {\n",
       "        vertical-align: middle;\n",
       "    }\n",
       "\n",
       "    .dataframe tbody tr th {\n",
       "        vertical-align: top;\n",
       "    }\n",
       "\n",
       "    .dataframe thead th {\n",
       "        text-align: right;\n",
       "    }\n",
       "</style>\n",
       "<table border=\"1\" class=\"dataframe\">\n",
       "  <thead>\n",
       "    <tr style=\"text-align: right;\">\n",
       "      <th></th>\n",
       "      <th>0</th>\n",
       "      <th>1</th>\n",
       "      <th>2</th>\n",
       "      <th>3</th>\n",
       "      <th>4</th>\n",
       "      <th>5</th>\n",
       "      <th>6</th>\n",
       "      <th>7</th>\n",
       "      <th>8</th>\n",
       "      <th>9</th>\n",
       "      <th>...</th>\n",
       "      <th>19</th>\n",
       "      <th>20</th>\n",
       "      <th>21</th>\n",
       "      <th>22</th>\n",
       "      <th>23</th>\n",
       "      <th>24</th>\n",
       "      <th>25</th>\n",
       "      <th>26</th>\n",
       "      <th>27</th>\n",
       "      <th>28</th>\n",
       "    </tr>\n",
       "  </thead>\n",
       "  <tbody>\n",
       "    <tr>\n",
       "      <th>0</th>\n",
       "      <td>1.0</td>\n",
       "      <td>0.869293</td>\n",
       "      <td>-0.635082</td>\n",
       "      <td>0.225690</td>\n",
       "      <td>0.327470</td>\n",
       "      <td>-0.689993</td>\n",
       "      <td>0.754202</td>\n",
       "      <td>-0.248573</td>\n",
       "      <td>-1.092064</td>\n",
       "      <td>0.000000</td>\n",
       "      <td>...</td>\n",
       "      <td>-0.010455</td>\n",
       "      <td>-0.045767</td>\n",
       "      <td>3.101961</td>\n",
       "      <td>1.353760</td>\n",
       "      <td>0.979563</td>\n",
       "      <td>0.978076</td>\n",
       "      <td>0.920005</td>\n",
       "      <td>0.721657</td>\n",
       "      <td>0.988751</td>\n",
       "      <td>0.876678</td>\n",
       "    </tr>\n",
       "    <tr>\n",
       "      <th>1</th>\n",
       "      <td>1.0</td>\n",
       "      <td>0.907542</td>\n",
       "      <td>0.329147</td>\n",
       "      <td>0.359412</td>\n",
       "      <td>1.497970</td>\n",
       "      <td>-0.313010</td>\n",
       "      <td>1.095531</td>\n",
       "      <td>-0.557525</td>\n",
       "      <td>-1.588230</td>\n",
       "      <td>2.173076</td>\n",
       "      <td>...</td>\n",
       "      <td>-1.138930</td>\n",
       "      <td>-0.000819</td>\n",
       "      <td>0.000000</td>\n",
       "      <td>0.302220</td>\n",
       "      <td>0.833048</td>\n",
       "      <td>0.985700</td>\n",
       "      <td>0.978098</td>\n",
       "      <td>0.779732</td>\n",
       "      <td>0.992356</td>\n",
       "      <td>0.798343</td>\n",
       "    </tr>\n",
       "    <tr>\n",
       "      <th>2</th>\n",
       "      <td>1.0</td>\n",
       "      <td>0.798835</td>\n",
       "      <td>1.470639</td>\n",
       "      <td>-1.635975</td>\n",
       "      <td>0.453773</td>\n",
       "      <td>0.425629</td>\n",
       "      <td>1.104875</td>\n",
       "      <td>1.282322</td>\n",
       "      <td>1.381664</td>\n",
       "      <td>0.000000</td>\n",
       "      <td>...</td>\n",
       "      <td>1.128848</td>\n",
       "      <td>0.900461</td>\n",
       "      <td>0.000000</td>\n",
       "      <td>0.909753</td>\n",
       "      <td>1.108330</td>\n",
       "      <td>0.985692</td>\n",
       "      <td>0.951331</td>\n",
       "      <td>0.803252</td>\n",
       "      <td>0.865924</td>\n",
       "      <td>0.780118</td>\n",
       "    </tr>\n",
       "    <tr>\n",
       "      <th>3</th>\n",
       "      <td>0.0</td>\n",
       "      <td>1.344385</td>\n",
       "      <td>-0.876626</td>\n",
       "      <td>0.935913</td>\n",
       "      <td>1.992050</td>\n",
       "      <td>0.882454</td>\n",
       "      <td>1.786066</td>\n",
       "      <td>-1.646778</td>\n",
       "      <td>-0.942383</td>\n",
       "      <td>0.000000</td>\n",
       "      <td>...</td>\n",
       "      <td>-0.678379</td>\n",
       "      <td>-1.360356</td>\n",
       "      <td>0.000000</td>\n",
       "      <td>0.946652</td>\n",
       "      <td>1.028704</td>\n",
       "      <td>0.998656</td>\n",
       "      <td>0.728281</td>\n",
       "      <td>0.869200</td>\n",
       "      <td>1.026736</td>\n",
       "      <td>0.957904</td>\n",
       "    </tr>\n",
       "    <tr>\n",
       "      <th>4</th>\n",
       "      <td>1.0</td>\n",
       "      <td>1.105009</td>\n",
       "      <td>0.321356</td>\n",
       "      <td>1.522401</td>\n",
       "      <td>0.882808</td>\n",
       "      <td>-1.205349</td>\n",
       "      <td>0.681466</td>\n",
       "      <td>-1.070464</td>\n",
       "      <td>-0.921871</td>\n",
       "      <td>0.000000</td>\n",
       "      <td>...</td>\n",
       "      <td>-0.373566</td>\n",
       "      <td>0.113041</td>\n",
       "      <td>0.000000</td>\n",
       "      <td>0.755856</td>\n",
       "      <td>1.361057</td>\n",
       "      <td>0.986610</td>\n",
       "      <td>0.838085</td>\n",
       "      <td>1.133295</td>\n",
       "      <td>0.872245</td>\n",
       "      <td>0.808487</td>\n",
       "    </tr>\n",
       "  </tbody>\n",
       "</table>\n",
       "<p>5 rows × 29 columns</p>\n",
       "</div>"
      ],
      "text/plain": [
       "    0         1         2         3         4         5         6         7   \\\n",
       "0  1.0  0.869293 -0.635082  0.225690  0.327470 -0.689993  0.754202 -0.248573   \n",
       "1  1.0  0.907542  0.329147  0.359412  1.497970 -0.313010  1.095531 -0.557525   \n",
       "2  1.0  0.798835  1.470639 -1.635975  0.453773  0.425629  1.104875  1.282322   \n",
       "3  0.0  1.344385 -0.876626  0.935913  1.992050  0.882454  1.786066 -1.646778   \n",
       "4  1.0  1.105009  0.321356  1.522401  0.882808 -1.205349  0.681466 -1.070464   \n",
       "\n",
       "         8         9     ...           19        20        21        22  \\\n",
       "0 -1.092064  0.000000    ...    -0.010455 -0.045767  3.101961  1.353760   \n",
       "1 -1.588230  2.173076    ...    -1.138930 -0.000819  0.000000  0.302220   \n",
       "2  1.381664  0.000000    ...     1.128848  0.900461  0.000000  0.909753   \n",
       "3 -0.942383  0.000000    ...    -0.678379 -1.360356  0.000000  0.946652   \n",
       "4 -0.921871  0.000000    ...    -0.373566  0.113041  0.000000  0.755856   \n",
       "\n",
       "         23        24        25        26        27        28  \n",
       "0  0.979563  0.978076  0.920005  0.721657  0.988751  0.876678  \n",
       "1  0.833048  0.985700  0.978098  0.779732  0.992356  0.798343  \n",
       "2  1.108330  0.985692  0.951331  0.803252  0.865924  0.780118  \n",
       "3  1.028704  0.998656  0.728281  0.869200  1.026736  0.957904  \n",
       "4  1.361057  0.986610  0.838085  1.133295  0.872245  0.808487  \n",
       "\n",
       "[5 rows x 29 columns]"
      ]
     },
     "execution_count": 1,
     "metadata": {},
     "output_type": "execute_result"
    }
   ],
   "source": [
    "import pandas as pd\n",
    "\n",
    "data_path = \"/home/kyle/Documents/HIGGS.csv\"\n",
    "\n",
    "N = 1500000 #1,500,000 to make reading easier\n",
    "data = pd.read_csv(data_path,nrows=N,header=None)\n",
    "test_data = pd.read_csv(data_path,nrows=500000,header=None,skiprows=N)\n",
    "data.head()"
   ]
  },
  {
   "cell_type": "code",
   "execution_count": 2,
   "metadata": {},
   "outputs": [
    {
     "name": "stderr",
     "output_type": "stream",
     "text": [
      "Using TensorFlow backend.\n"
     ]
    }
   ],
   "source": [
    "import numpy as np\n",
    "from keras.models import Sequential\n",
    "from keras.layers.core import Dense, Dropout, Activation\n",
    "from keras.optimizers import SGD, RMSprop, Adadelta, Adam\n",
    "from sklearn.metrics import roc_auc_score\n",
    "\n",
    "y = np.array(data.loc[:,0])\n",
    "x = np.array(data.loc[:,1:])\n",
    "x_test = np.array(test_data.loc[:,1:])\n",
    "y_test = np.array(test_data.loc[:,0])\n"
   ]
  },
  {
   "cell_type": "code",
   "execution_count": 56,
   "metadata": {},
   "outputs": [
    {
     "data": {
      "text/plain": [
       "1.0    793773\n",
       "0.0    706227\n",
       "Name: 0, dtype: int64"
      ]
     },
     "execution_count": 56,
     "metadata": {},
     "output_type": "execute_result"
    }
   ],
   "source": [
    "data[0].value_counts()"
   ]
  },
  {
   "cell_type": "code",
   "execution_count": 58,
   "metadata": {},
   "outputs": [
    {
     "data": {
      "text/plain": [
       "0.529182"
      ]
     },
     "execution_count": 58,
     "metadata": {},
     "output_type": "execute_result"
    }
   ],
   "source": [
    "total = 793773 + 706227\n",
    "pos_rate = 793773 / total\n",
    "pos_rate"
   ]
  },
  {
   "cell_type": "markdown",
   "metadata": {},
   "source": [
    "## Basic Model Supplied with the Assignment"
   ]
  },
  {
   "cell_type": "code",
   "execution_count": 15,
   "metadata": {},
   "outputs": [
    {
     "name": "stdout",
     "output_type": "stream",
     "text": [
      "Epoch 1/5\n",
      "1500000/1500000 [==============================] - 10s 6us/step - loss: 0.6919 - acc: 0.5273\n",
      "Epoch 2/5\n",
      "1500000/1500000 [==============================] - 9s 6us/step - loss: 0.6918 - acc: 0.5279\n",
      "Epoch 3/5\n",
      "1500000/1500000 [==============================] - 9s 6us/step - loss: 0.6786 - acc: 0.5600\n",
      "Epoch 4/5\n",
      "1500000/1500000 [==============================] - 9s 6us/step - loss: 0.6496 - acc: 0.6147\n",
      "Epoch 5/5\n",
      "1500000/1500000 [==============================] - 9s 6us/step - loss: 0.6405 - acc: 0.6246\n"
     ]
    },
    {
     "data": {
      "text/plain": [
       "0.6898656691309724"
      ]
     },
     "execution_count": 15,
     "metadata": {},
     "output_type": "execute_result"
    }
   ],
   "source": [
    "model = Sequential()\n",
    "\n",
    "model.add(Dense(50, input_dim=x.shape[1], kernel_initializer='uniform')) # X_train.shape[1] == 28 here\n",
    "model.add(Activation('sigmoid'))\n",
    "model.add(Dropout(0.10))\n",
    "\n",
    "model.add(Dense(50, kernel_initializer='uniform'))\n",
    "model.add(Activation('sigmoid'))\n",
    "model.add(Dropout(0.10))\n",
    "\n",
    "model.add(Dense(1, kernel_initializer='uniform')) \n",
    "model.add(Activation('sigmoid'))\n",
    "\n",
    "sgd = SGD(lr=0.1, decay=1e-6, momentum=0.9, nesterov=True)\n",
    "model.compile(loss='binary_crossentropy', metrics=['accuracy'], optimizer=sgd)\n",
    "\n",
    "model.fit(x, y, epochs=5, batch_size=1000)\n",
    "roc_auc_score(y_test,model.predict(x_test))"
   ]
  },
  {
   "cell_type": "markdown",
   "metadata": {},
   "source": [
    "## Work\n",
    "\n",
    "### Part 1 - Pick 3 or more different architectures (add/subtract layers+neurons) and run the model + score. \n",
    "\n",
    "#### Model 1\n",
    "Five hidden layers (50 neurons each) 10 percent drop out at each hidden layer. No improvement."
   ]
  },
  {
   "cell_type": "code",
   "execution_count": 30,
   "metadata": {},
   "outputs": [
    {
     "name": "stdout",
     "output_type": "stream",
     "text": [
      "Epoch 1/5\n",
      "1500000/1500000 [==============================] - 16s 11us/step - loss: 0.6919 - acc: 0.5277\n",
      "Epoch 2/5\n",
      "1500000/1500000 [==============================] - 15s 10us/step - loss: 0.6918 - acc: 0.5280\n",
      "Epoch 3/5\n",
      "1500000/1500000 [==============================] - 15s 10us/step - loss: 0.6918 - acc: 0.5282\n",
      "Epoch 4/5\n",
      "1500000/1500000 [==============================] - 16s 10us/step - loss: 0.6917 - acc: 0.5286\n",
      "Epoch 5/5\n",
      "1500000/1500000 [==============================] - 15s 10us/step - loss: 0.6917 - acc: 0.5288\n"
     ]
    },
    {
     "data": {
      "text/plain": [
       "0.5016195849252397"
      ]
     },
     "execution_count": 30,
     "metadata": {},
     "output_type": "execute_result"
    }
   ],
   "source": [
    "five_layer_model = Sequential()\n",
    "# Layer 1\n",
    "five_layer_model.add(Dense(50, input_dim=x.shape[1], kernel_initializer='uniform')) # X_train.shape[1] == 28 here\n",
    "five_layer_model.add(Activation('sigmoid'))\n",
    "five_layer_model.add(Dropout(0.10))\n",
    "\n",
    "# Layer 2\n",
    "five_layer_model.add(Dense(50, kernel_initializer='uniform'))\n",
    "five_layer_model.add(Activation('sigmoid'))\n",
    "five_layer_model.add(Dropout(0.10))\n",
    "\n",
    "# Layer 3\n",
    "five_layer_model.add(Dense(50, kernel_initializer='uniform')) \n",
    "five_layer_model.add(Activation('sigmoid'))\n",
    "five_layer_model.add(Dropout(0.10))\n",
    "\n",
    "# Layer 4\n",
    "five_layer_model.add(Dense(50, kernel_initializer='uniform')) \n",
    "five_layer_model.add(Activation('sigmoid'))\n",
    "five_layer_model.add(Dropout(0.10))\n",
    "\n",
    "# Layer 5\n",
    "five_layer_model.add(Dense(50, kernel_initializer='uniform')) \n",
    "five_layer_model.add(Activation('sigmoid'))\n",
    "five_layer_model.add(Dropout(0.10))\n",
    "\n",
    "# Output\n",
    "five_layer_model.add(Dense(1, kernel_initializer='uniform')) \n",
    "five_layer_model.add(Activation('sigmoid'))\n",
    "\n",
    "sgd = SGD(lr=0.1, decay=1e-6, momentum=0.9, nesterov=True)\n",
    "five_layer_model.compile(loss='binary_crossentropy', metrics=['accuracy'], optimizer=sgd)\n",
    "\n",
    "five_layer_model.fit(x, y, epochs=5, batch_size=1000)\n",
    "roc_auc_score(y_test,five_layer_model.predict(x_test))\n"
   ]
  },
  {
   "cell_type": "markdown",
   "metadata": {},
   "source": [
    "#### Model 2\n",
    "Increasing the neurons in each layer to 100 to see what happens"
   ]
  },
  {
   "cell_type": "code",
   "execution_count": 31,
   "metadata": {},
   "outputs": [
    {
     "name": "stdout",
     "output_type": "stream",
     "text": [
      "Epoch 1/5\n",
      "1500000/1500000 [==============================] - 24s 16us/step - loss: 0.6923 - acc: 0.5243\n",
      "Epoch 2/5\n",
      "1500000/1500000 [==============================] - 22s 15us/step - loss: 0.6921 - acc: 0.5257\n",
      "Epoch 3/5\n",
      "1500000/1500000 [==============================] - 21s 14us/step - loss: 0.6919 - acc: 0.5275\n",
      "Epoch 4/5\n",
      "1500000/1500000 [==============================] - 24s 16us/step - loss: 0.6918 - acc: 0.5283\n",
      "Epoch 5/5\n",
      "1500000/1500000 [==============================] - 22s 15us/step - loss: 0.6917 - acc: 0.5287\n"
     ]
    },
    {
     "data": {
      "text/plain": [
       "0.4953698768841075"
      ]
     },
     "execution_count": 31,
     "metadata": {},
     "output_type": "execute_result"
    }
   ],
   "source": [
    "# Model 2\n",
    "five_layer_model = Sequential()\n",
    "\n",
    "# Layer 1\n",
    "five_layer_model.add(Dense(100, input_dim=x.shape[1], kernel_initializer='uniform')) # X_train.shape[1] == 28 here\n",
    "five_layer_model.add(Activation('sigmoid'))\n",
    "five_layer_model.add(Dropout(0.10))\n",
    "\n",
    "# Layer 2\n",
    "five_layer_model.add(Dense(100, kernel_initializer='uniform'))\n",
    "five_layer_model.add(Activation('sigmoid'))\n",
    "five_layer_model.add(Dropout(0.10))\n",
    "\n",
    "# Layer 3\n",
    "five_layer_model.add(Dense(100, kernel_initializer='uniform')) \n",
    "five_layer_model.add(Activation('sigmoid'))\n",
    "five_layer_model.add(Dropout(0.10))\n",
    "\n",
    "# Layer 4\n",
    "five_layer_model.add(Dense(100, kernel_initializer='uniform')) \n",
    "five_layer_model.add(Activation('sigmoid'))\n",
    "five_layer_model.add(Dropout(0.10))\n",
    "\n",
    "# Layer 5\n",
    "five_layer_model.add(Dense(100, kernel_initializer='uniform')) \n",
    "five_layer_model.add(Activation('sigmoid'))\n",
    "five_layer_model.add(Dropout(0.10))\n",
    "\n",
    "# Output\n",
    "five_layer_model.add(Dense(1, kernel_initializer='uniform')) \n",
    "five_layer_model.add(Activation('sigmoid'))\n",
    "\n",
    "sgd = SGD(lr=0.1, decay=1e-6, momentum=0.9, nesterov=True)\n",
    "five_layer_model.compile(loss='binary_crossentropy', metrics=['accuracy'], optimizer=sgd)\n",
    "\n",
    "five_layer_model.fit(x, y, epochs=5, batch_size=1000)\n",
    "roc_auc_score(y_test,five_layer_model.predict(x_test))"
   ]
  },
  {
   "cell_type": "code",
   "execution_count": 32,
   "metadata": {},
   "outputs": [],
   "source": [
    "#### Model 3 - 1 hidden layers and varying nodes, only 1 drop out"
   ]
  },
  {
   "cell_type": "code",
   "execution_count": 35,
   "metadata": {},
   "outputs": [
    {
     "name": "stdout",
     "output_type": "stream",
     "text": [
      "Epoch 1/5\n",
      "1500000/1500000 [==============================] - 9s 6us/step - loss: 0.6920 - acc: 0.5270\n",
      "Epoch 2/5\n",
      "1500000/1500000 [==============================] - 8s 5us/step - loss: 0.6919 - acc: 0.5275\n",
      "Epoch 3/5\n",
      "1500000/1500000 [==============================] - 8s 5us/step - loss: 0.6907 - acc: 0.5312\n",
      "Epoch 4/5\n",
      "1500000/1500000 [==============================] - 8s 6us/step - loss: 0.6543 - acc: 0.6085\n",
      "Epoch 5/5\n",
      "1500000/1500000 [==============================] - 8s 5us/step - loss: 0.6357 - acc: 0.6339\n"
     ]
    },
    {
     "data": {
      "text/plain": [
       "0.705244511974489"
      ]
     },
     "execution_count": 35,
     "metadata": {},
     "output_type": "execute_result"
    }
   ],
   "source": [
    "model3 = Sequential()\n",
    "\n",
    "# Input Layer\n",
    "model3.add(Dense(25, input_dim = x.shape[1], kernel_initializer='uniform'))\n",
    "model3.add(Activation('sigmoid'))\n",
    "\n",
    "# First Hidden Layer\n",
    "model3.add(Dense(50, kernel_initializer='uniform'))\n",
    "model3.add(Activation('sigmoid'))\n",
    "model3.add(Dropout(0.1))\n",
    "\n",
    "# output\n",
    "model3.add(Dense(1, kernel_initializer='uniform'))\n",
    "model3.add(Activation('sigmoid'))\n",
    "\n",
    "sgd = SGD(lr=0.1, decay=1e-6, momentum=0.9, nesterov=True)\n",
    "model3.compile(loss='binary_crossentropy', metrics=['accuracy'], optimizer=sgd)\n",
    "\n",
    "model3.fit(x, y, epochs=5, batch_size=1000)\n",
    "roc_auc_score(y_test, model3.predict(x_test))\n"
   ]
  },
  {
   "cell_type": "markdown",
   "metadata": {},
   "source": [
    "#### Model 4 - 1 hidden layer and lots of nodes"
   ]
  },
  {
   "cell_type": "code",
   "execution_count": 36,
   "metadata": {},
   "outputs": [
    {
     "name": "stdout",
     "output_type": "stream",
     "text": [
      "Epoch 1/5\n",
      "1500000/1500000 [==============================] - 14s 10us/step - loss: 0.6929 - acc: 0.5234\n",
      "Epoch 2/5\n",
      "1500000/1500000 [==============================] - 13s 9us/step - loss: 0.6523 - acc: 0.6111\n",
      "Epoch 3/5\n",
      "1500000/1500000 [==============================] - 13s 9us/step - loss: 0.6406 - acc: 0.6287\n",
      "Epoch 4/5\n",
      "1500000/1500000 [==============================] - 14s 9us/step - loss: 0.6318 - acc: 0.6412\n",
      "Epoch 5/5\n",
      "1500000/1500000 [==============================] - 13s 9us/step - loss: 0.6202 - acc: 0.6557\n"
     ]
    },
    {
     "data": {
      "text/plain": [
       "0.7256707343472436"
      ]
     },
     "execution_count": 36,
     "metadata": {},
     "output_type": "execute_result"
    }
   ],
   "source": [
    "model4 = Sequential()\n",
    "\n",
    "# Input Layer\n",
    "model4.add(Dense(100, input_dim = x.shape[1], kernel_initializer='uniform'))\n",
    "model4.add(Activation('sigmoid'))\n",
    "\n",
    "# First Hidden Layer\n",
    "model4.add(Dense(200, kernel_initializer='uniform'))\n",
    "model4.add(Activation('sigmoid'))\n",
    "model4.add(Dropout(0.1))\n",
    "\n",
    "# output\n",
    "model4.add(Dense(1, kernel_initializer='uniform'))\n",
    "model4.add(Activation('sigmoid'))\n",
    "\n",
    "sgd = SGD(lr=0.1, decay=1e-6, momentum=0.9, nesterov=True)\n",
    "model4.compile(loss='binary_crossentropy', metrics=['accuracy'], optimizer=sgd)\n",
    "\n",
    "model4.fit(x, y, epochs=5, batch_size=1000)\n",
    "roc_auc_score(y_test, model4.predict(x_test))"
   ]
  },
  {
   "cell_type": "markdown",
   "metadata": {},
   "source": [
    "### Part 2\n",
    "With those same 3 architectures, run the SAME architecture but with 2 different (from sigmoid) activation functions.  Google the Keras documentation for a look at different available activations. "
   ]
  },
  {
   "cell_type": "markdown",
   "metadata": {},
   "source": [
    "#### Activation = 'softmax'\n",
    "Five Layer Model - No Improvement \n",
    "\n",
    "Model 3 - Decrease in accuracy \n",
    "\n",
    "Model 4 - Major decrease in accuracy "
   ]
  },
  {
   "cell_type": "code",
   "execution_count": 49,
   "metadata": {},
   "outputs": [
    {
     "name": "stdout",
     "output_type": "stream",
     "text": [
      "Epoch 1/5\n",
      "1500000/1500000 [==============================] - 19s 13us/step - loss: 7.5060 - acc: 0.5292\n",
      "Epoch 2/5\n",
      "1500000/1500000 [==============================] - 18s 12us/step - loss: 7.5060 - acc: 0.5292\n",
      "Epoch 3/5\n",
      "1500000/1500000 [==============================] - 18s 12us/step - loss: 7.5060 - acc: 0.5292\n",
      "Epoch 4/5\n",
      "1500000/1500000 [==============================] - 18s 12us/step - loss: 7.5060 - acc: 0.5292\n",
      "Epoch 5/5\n",
      "1500000/1500000 [==============================] - 18s 12us/step - loss: 7.5060 - acc: 0.5292\n"
     ]
    },
    {
     "data": {
      "text/plain": [
       "0.5"
      ]
     },
     "execution_count": 49,
     "metadata": {},
     "output_type": "execute_result"
    }
   ],
   "source": [
    "five_layer_model_softmax = Sequential()\n",
    "# Layer 1\n",
    "five_layer_model_softmax.add(Dense(50, input_dim=x.shape[1], kernel_initializer='uniform')) # X_train.shape[1] == 28 here\n",
    "five_layer_model_softmax.add(Activation('softmax'))\n",
    "five_layer_model_softmax.add(Dropout(0.10))\n",
    "\n",
    "# Layer 2\n",
    "five_layer_model_softmax.add(Dense(50, kernel_initializer='uniform'))\n",
    "five_layer_model_softmax.add(Activation('softmax'))\n",
    "five_layer_model_softmax.add(Dropout(0.10))\n",
    "\n",
    "# Layer 3\n",
    "five_layer_model_softmax.add(Dense(50, kernel_initializer='uniform')) \n",
    "five_layer_model_softmax.add(Activation('softmax'))\n",
    "five_layer_model_softmax.add(Dropout(0.10))\n",
    "\n",
    "# Layer 4\n",
    "five_layer_model_softmax.add(Dense(50, kernel_initializer='uniform')) \n",
    "five_layer_model_softmax.add(Activation('softmax'))\n",
    "five_layer_model_softmax.add(Dropout(0.10))\n",
    "\n",
    "# Layer 5\n",
    "five_layer_model_softmax.add(Dense(50, kernel_initializer='uniform')) \n",
    "five_layer_model_softmax.add(Activation('softmax'))\n",
    "five_layer_model_softmax.add(Dropout(0.10))\n",
    "\n",
    "# Output\n",
    "five_layer_model_softmax.add(Dense(1, kernel_initializer='uniform')) \n",
    "five_layer_model_softmax.add(Activation('softmax'))\n",
    "\n",
    "sgd = SGD(lr=0.1, decay=1e-6, momentum=0.9, nesterov=True)\n",
    "five_layer_model_softmax.compile(loss='binary_crossentropy', metrics=['accuracy'], optimizer=sgd)\n",
    "\n",
    "five_layer_model_softmax.fit(x, y, epochs=5, batch_size=1000)\n",
    "roc_auc_score(y_test,five_layer_model_softmax.predict(x_test))\n"
   ]
  },
  {
   "cell_type": "code",
   "execution_count": 50,
   "metadata": {},
   "outputs": [
    {
     "name": "stdout",
     "output_type": "stream",
     "text": [
      "Epoch 1/5\n",
      "1500000/1500000 [==============================] - 11s 7us/step - loss: 7.5060 - acc: 0.5292\n",
      "Epoch 2/5\n",
      "1500000/1500000 [==============================] - 9s 6us/step - loss: 7.5060 - acc: 0.5292\n",
      "Epoch 3/5\n",
      "1500000/1500000 [==============================] - 9s 6us/step - loss: 7.5060 - acc: 0.5292\n",
      "Epoch 4/5\n",
      "1500000/1500000 [==============================] - 9s 6us/step - loss: 7.5060 - acc: 0.5292\n",
      "Epoch 5/5\n",
      "1500000/1500000 [==============================] - 10s 6us/step - loss: 7.5060 - acc: 0.5292\n"
     ]
    },
    {
     "data": {
      "text/plain": [
       "0.5"
      ]
     },
     "execution_count": 50,
     "metadata": {},
     "output_type": "execute_result"
    }
   ],
   "source": [
    "model3_softmax = Sequential()\n",
    "\n",
    "# Input Layer\n",
    "model3_softmax.add(Dense(25, input_dim = x.shape[1], kernel_initializer='uniform'))\n",
    "model3_softmax.add(Activation('softmax'))\n",
    "\n",
    "# First Hidden Layer\n",
    "model3_softmax.add(Dense(50, kernel_initializer='uniform'))\n",
    "model3_softmax.add(Activation('softmax'))\n",
    "model3_softmax.add(Dropout(0.1))\n",
    "\n",
    "# output\n",
    "model3_softmax.add(Dense(1, kernel_initializer='uniform'))\n",
    "model3_softmax.add(Activation('softmax'))\n",
    "\n",
    "sgd = SGD(lr=0.1, decay=1e-6, momentum=0.9, nesterov=True)\n",
    "model3_softmax.compile(loss='binary_crossentropy', metrics=['accuracy'], optimizer=sgd)\n",
    "\n",
    "model3_softmax.fit(x, y, epochs=5, batch_size=1000)\n",
    "roc_auc_score(y_test, model3_softmax.predict(x_test))"
   ]
  },
  {
   "cell_type": "code",
   "execution_count": 51,
   "metadata": {},
   "outputs": [
    {
     "name": "stdout",
     "output_type": "stream",
     "text": [
      "Epoch 1/5\n",
      "1500000/1500000 [==============================] - 17s 12us/step - loss: 7.5060 - acc: 0.5292\n",
      "Epoch 2/5\n",
      "1500000/1500000 [==============================] - 16s 11us/step - loss: 7.5060 - acc: 0.5292\n",
      "Epoch 3/5\n",
      "1500000/1500000 [==============================] - 16s 11us/step - loss: 7.5060 - acc: 0.5292\n",
      "Epoch 4/5\n",
      "1500000/1500000 [==============================] - 16s 11us/step - loss: 7.5060 - acc: 0.5292\n",
      "Epoch 5/5\n",
      "1500000/1500000 [==============================] - 16s 11us/step - loss: 7.5060 - acc: 0.5292\n"
     ]
    },
    {
     "data": {
      "text/plain": [
       "0.5"
      ]
     },
     "execution_count": 51,
     "metadata": {},
     "output_type": "execute_result"
    }
   ],
   "source": [
    "model4_softmax = Sequential()\n",
    "\n",
    "# Input Layer\n",
    "model4_softmax.add(Dense(100, input_dim = x.shape[1], kernel_initializer='uniform'))\n",
    "model4_softmax.add(Activation('softmax'))\n",
    "\n",
    "# First Hidden Layer\n",
    "model4_softmax.add(Dense(200, kernel_initializer='uniform'))\n",
    "model4_softmax.add(Activation('softmax'))\n",
    "model4_softmax.add(Dropout(0.1))\n",
    "\n",
    "# output\n",
    "model4_softmax.add(Dense(1, kernel_initializer='uniform'))\n",
    "model4_softmax.add(Activation('softmax'))\n",
    "\n",
    "sgd = SGD(lr=0.1, decay=1e-6, momentum=0.9, nesterov=True)\n",
    "model4_softmax.compile(loss='binary_crossentropy', metrics=['accuracy'], optimizer=sgd)\n",
    "\n",
    "model4_softmax.fit(x, y, epochs=5, batch_size=1000)\n",
    "roc_auc_score(y_test, model4_softmax.predict(x_test))"
   ]
  },
  {
   "cell_type": "markdown",
   "metadata": {},
   "source": [
    "# Activation Function = RELU\n",
    "Five Layer Model - Major Decrease in Accuracy. Only predicts the major class.\n",
    "\n",
    "Model3 - Major Decrease in Accuracy. Only predicts the major class.\n",
    "\n",
    "Model4 - Major Decrase in Accuracy. Only predicts the major class."
   ]
  },
  {
   "cell_type": "code",
   "execution_count": 46,
   "metadata": {},
   "outputs": [
    {
     "name": "stdout",
     "output_type": "stream",
     "text": [
      "Epoch 1/5\n",
      "1500000/1500000 [==============================] - 10s 7us/step - loss: 7.5064 - acc: 3.0933e-04\n",
      "Epoch 2/5\n",
      "1500000/1500000 [==============================] - 8s 6us/step - loss: 7.5060 - acc: 0.0000e+00\n",
      "Epoch 3/5\n",
      "1500000/1500000 [==============================] - 8s 6us/step - loss: 7.5060 - acc: 0.0000e+00\n",
      "Epoch 4/5\n",
      "1500000/1500000 [==============================] - 8s 6us/step - loss: 7.5060 - acc: 0.0000e+00\n",
      "Epoch 5/5\n",
      "1500000/1500000 [==============================] - 8s 6us/step - loss: 7.5060 - acc: 0.0000e+00\n"
     ]
    },
    {
     "data": {
      "text/plain": [
       "0.46727651466928544"
      ]
     },
     "execution_count": 46,
     "metadata": {},
     "output_type": "execute_result"
    }
   ],
   "source": [
    "model3_relu = Sequential()\n",
    "\n",
    "# Input Layer\n",
    "model3_relu.add(Dense(25, input_dim = x.shape[1], kernel_initializer='uniform'))\n",
    "model3_relu.add(Activation('relu'))\n",
    "\n",
    "# First Hidden Layer\n",
    "model3_relu.add(Dense(50, kernel_initializer='uniform'))\n",
    "model3_relu.add(Activation('relu'))\n",
    "model3_relu.add(Dropout(0.1))\n",
    "\n",
    "# output\n",
    "model3_relu.add(Dense(1, kernel_initializer='uniform'))\n",
    "model3_relu.add(Activation('relu'))\n",
    "\n",
    "sgd = SGD(lr=0.1, decay=1e-6, momentum=0.9, nesterov=True)\n",
    "model3_relu.compile(loss='binary_crossentropy', metrics=['accuracy'], optimizer=sgd)\n",
    "\n",
    "model3_relu.fit(x, y, epochs=5, batch_size=1000)\n",
    "roc_auc_score(y_test, model3_relu.predict(x_test))"
   ]
  },
  {
   "cell_type": "code",
   "execution_count": 47,
   "metadata": {},
   "outputs": [
    {
     "name": "stdout",
     "output_type": "stream",
     "text": [
      "Epoch 1/5\n",
      "1500000/1500000 [==============================] - 16s 10us/step - loss: 7.5028 - acc: 3.1533e-04\n",
      "Epoch 2/5\n",
      "1500000/1500000 [==============================] - 13s 9us/step - loss: 7.5060 - acc: 0.0000e+00\n",
      "Epoch 3/5\n",
      "1500000/1500000 [==============================] - 14s 9us/step - loss: 7.5060 - acc: 0.0000e+00\n",
      "Epoch 4/5\n",
      "1500000/1500000 [==============================] - 14s 9us/step - loss: 7.5060 - acc: 0.0000e+00\n",
      "Epoch 5/5\n",
      "1500000/1500000 [==============================] - 14s 9us/step - loss: 7.5060 - acc: 0.0000e+00\n"
     ]
    },
    {
     "data": {
      "text/plain": [
       "0.4785849348100599"
      ]
     },
     "execution_count": 47,
     "metadata": {},
     "output_type": "execute_result"
    }
   ],
   "source": [
    "model4_relu = Sequential()\n",
    "\n",
    "# Input Layer\n",
    "model4_relu.add(Dense(100, input_dim = x.shape[1], kernel_initializer='uniform'))\n",
    "model4_relu.add(Activation('relu'))\n",
    "\n",
    "# First Hidden Layer\n",
    "model4_relu.add(Dense(200, kernel_initializer='uniform'))\n",
    "model4_relu.add(Activation('relu'))\n",
    "model4_relu.add(Dropout(0.1))\n",
    "\n",
    "# output\n",
    "model4_relu.add(Dense(1, kernel_initializer='uniform'))\n",
    "model4_relu.add(Activation('relu'))\n",
    "\n",
    "sgd = SGD(lr=0.1, decay=1e-6, momentum=0.9, nesterov=True)\n",
    "model4_relu.compile(loss='binary_crossentropy', metrics=['accuracy'], optimizer=sgd)\n",
    "\n",
    "model4_relu.fit(x, y, epochs=5, batch_size=1000)\n",
    "roc_auc_score(y_test, model4_relu.predict(x_test))"
   ]
  },
  {
   "cell_type": "markdown",
   "metadata": {},
   "source": [
    "#### Mixed Activation\n",
    "Five layer model - No improvement\n",
    "\n",
    "Model3 - Improvement\n",
    "\n",
    "Model4 - Major improvement"
   ]
  },
  {
   "cell_type": "code",
   "execution_count": 64,
   "metadata": {},
   "outputs": [
    {
     "name": "stdout",
     "output_type": "stream",
     "text": [
      "Epoch 1/5\n",
      "1500000/1500000 [==============================] - 19s 12us/step - loss: 0.6915 - acc: 0.5292\n",
      "Epoch 2/5\n",
      "1500000/1500000 [==============================] - 16s 11us/step - loss: 0.6915 - acc: 0.5292\n",
      "Epoch 3/5\n",
      "1500000/1500000 [==============================] - 16s 11us/step - loss: 0.6915 - acc: 0.5292\n",
      "Epoch 4/5\n",
      "1500000/1500000 [==============================] - 16s 11us/step - loss: 0.6915 - acc: 0.5292\n",
      "Epoch 5/5\n",
      "1500000/1500000 [==============================] - 17s 11us/step - loss: 0.6915 - acc: 0.5292\n"
     ]
    },
    {
     "data": {
      "text/plain": [
       "0.5639393663769061"
      ]
     },
     "execution_count": 64,
     "metadata": {},
     "output_type": "execute_result"
    }
   ],
   "source": [
    "five_layer_model_mixed = Sequential()\n",
    "# Layer 1\n",
    "five_layer_model_mixed.add(Dense(50, input_dim=x.shape[1], kernel_initializer='uniform')) # X_train.shape[1] == 28 here\n",
    "five_layer_model_mixed.add(Activation('relu'))\n",
    "five_layer_model_mixed.add(Dropout(0.10))\n",
    "\n",
    "# Layer 2\n",
    "five_layer_model_mixed.add(Dense(50, kernel_initializer='uniform'))\n",
    "five_layer_model_mixed.add(Activation('relu'))\n",
    "five_layer_model_mixed.add(Dropout(0.10))\n",
    "\n",
    "# Layer 3\n",
    "five_layer_model_mixed.add(Dense(50, kernel_initializer='uniform')) \n",
    "five_layer_model_mixed.add(Activation('relu'))\n",
    "five_layer_model_mixed.add(Dropout(0.10))\n",
    "\n",
    "# Layer 4\n",
    "five_layer_model_mixed.add(Dense(50, kernel_initializer='uniform')) \n",
    "five_layer_model_mixed.add(Activation('relu'))\n",
    "five_layer_model_mixed.add(Dropout(0.10))\n",
    "\n",
    "# Layer 5\n",
    "five_layer_model_mixed.add(Dense(50, kernel_initializer='uniform')) \n",
    "five_layer_model_mixed.add(Activation('relu'))\n",
    "five_layer_model_mixed.add(Dropout(0.10))\n",
    "\n",
    "# Output\n",
    "five_layer_model_mixed.add(Dense(1, kernel_initializer='uniform')) \n",
    "five_layer_model_mixed.add(Activation('sigmoid'))\n",
    "\n",
    "sgd = SGD(lr=0.1, decay=1e-6, momentum=0.9, nesterov=True)\n",
    "five_layer_model_mixed.compile(loss='binary_crossentropy', metrics=['accuracy'], optimizer=sgd)\n",
    "\n",
    "five_layer_model_mixed.fit(x, y, epochs=5, batch_size=1000)\n",
    "roc_auc_score(y_test,five_layer_model_mixed.predict(x_test))\n"
   ]
  },
  {
   "cell_type": "code",
   "execution_count": 66,
   "metadata": {},
   "outputs": [
    {
     "name": "stdout",
     "output_type": "stream",
     "text": [
      "Epoch 1/5\n",
      "1500000/1500000 [==============================] - 11s 7us/step - loss: 0.6145 - acc: 0.6514\n",
      "Epoch 2/5\n",
      "1500000/1500000 [==============================] - 9s 6us/step - loss: 0.5663 - acc: 0.7037\n",
      "Epoch 3/5\n",
      "1500000/1500000 [==============================] - 9s 6us/step - loss: 0.5531 - acc: 0.7139\n",
      "Epoch 4/5\n",
      "1500000/1500000 [==============================] - 9s 6us/step - loss: 0.5447 - acc: 0.7200\n",
      "Epoch 5/5\n",
      "1500000/1500000 [==============================] - 9s 6us/step - loss: 0.5379 - acc: 0.7247\n"
     ]
    },
    {
     "data": {
      "text/plain": [
       "0.8082438014584612"
      ]
     },
     "execution_count": 66,
     "metadata": {},
     "output_type": "execute_result"
    }
   ],
   "source": [
    "model3_softmax = Sequential()\n",
    "\n",
    "# Input Layer\n",
    "model3_softmax.add(Dense(25, input_dim = x.shape[1], kernel_initializer='uniform'))\n",
    "model3_softmax.add(Activation('relu'))\n",
    "\n",
    "# First Hidden Layer\n",
    "model3_softmax.add(Dense(50, kernel_initializer='uniform'))\n",
    "model3_softmax.add(Activation('relu'))\n",
    "model3_softmax.add(Dropout(0.1))\n",
    "\n",
    "# output\n",
    "model3_softmax.add(Dense(1, kernel_initializer='uniform'))\n",
    "model3_softmax.add(Activation('sigmoid'))\n",
    "\n",
    "sgd = SGD(lr=0.1, decay=1e-6, momentum=0.9, nesterov=True)\n",
    "model3_softmax.compile(loss='binary_crossentropy', metrics=['accuracy'], optimizer=sgd)\n",
    "\n",
    "model3_softmax.fit(x, y, epochs=5, batch_size=1000)\n",
    "roc_auc_score(y_test, model3_softmax.predict(x_test))"
   ]
  },
  {
   "cell_type": "code",
   "execution_count": 63,
   "metadata": {
    "scrolled": true
   },
   "outputs": [
    {
     "name": "stdout",
     "output_type": "stream",
     "text": [
      "Epoch 1/5\n",
      "1500000/1500000 [==============================] - 15s 10us/step - loss: 0.5990 - acc: 0.6701\n",
      "Epoch 2/5\n",
      "1500000/1500000 [==============================] - 14s 10us/step - loss: 0.5556 - acc: 0.7108\n",
      "Epoch 3/5\n",
      "1500000/1500000 [==============================] - 14s 10us/step - loss: 0.5388 - acc: 0.7239\n",
      "Epoch 4/5\n",
      "1500000/1500000 [==============================] - 15s 10us/step - loss: 0.5274 - acc: 0.7325\n",
      "Epoch 5/5\n",
      "1500000/1500000 [==============================] - 14s 9us/step - loss: 0.5205 - acc: 0.7373\n"
     ]
    },
    {
     "data": {
      "text/plain": [
       "0.8205968128607934"
      ]
     },
     "execution_count": 63,
     "metadata": {},
     "output_type": "execute_result"
    }
   ],
   "source": [
    "model4_sigmoid = Sequential()\n",
    "\n",
    "# Input Layer\n",
    "model4_sigmoid.add(Dense(100, input_dim = x.shape[1], kernel_initializer='uniform'))\n",
    "model4_sigmoid.add(Activation('relu'))\n",
    "\n",
    "# First Hidden Layer\n",
    "model4_sigmoid.add(Dense(200, kernel_initializer='uniform'))\n",
    "model4_sigmoid.add(Activation('relu'))\n",
    "model4_sigmoid.add(Dropout(0.1))\n",
    "\n",
    "# output\n",
    "model4_sigmoid.add(Dense(1, kernel_initializer='uniform'))\n",
    "model4_sigmoid.add(Activation('sigmoid'))\n",
    "\n",
    "sgd = SGD(lr=0.1, decay=1e-6, momentum=0.9, nesterov=True)\n",
    "model4_sigmoid.compile(loss='binary_crossentropy', metrics=['accuracy'], optimizer=sgd)\n",
    "\n",
    "model4_sigmoid.fit(x, y, epochs=5, batch_size=1000)\n",
    "roc_auc_score(y_test, model4_sigmoid.predict(x_test))"
   ]
  },
  {
   "cell_type": "code",
   "execution_count": 69,
   "metadata": {},
   "outputs": [
    {
     "name": "stdout",
     "output_type": "stream",
     "text": [
      "Epoch 1/5\n",
      "1500000/1500000 [==============================] - 16s 11us/step - loss: 0.6263 - acc: 0.6473\n",
      "Epoch 2/5\n",
      "1500000/1500000 [==============================] - 15s 10us/step - loss: 0.5890 - acc: 0.6876\n",
      "Epoch 3/5\n",
      "1500000/1500000 [==============================] - 15s 10us/step - loss: 0.5761 - acc: 0.6987\n",
      "Epoch 4/5\n",
      "1500000/1500000 [==============================] - 15s 10us/step - loss: 0.5695 - acc: 0.7029\n",
      "Epoch 5/5\n",
      "1500000/1500000 [==============================] - 15s 10us/step - loss: 0.5649 - acc: 0.7061\n"
     ]
    },
    {
     "data": {
      "text/plain": [
       "0.7806258597860792"
      ]
     },
     "execution_count": 69,
     "metadata": {},
     "output_type": "execute_result"
    }
   ],
   "source": [
    "model4_sigmoid = Sequential()\n",
    "\n",
    "# Input Layer\n",
    "model4_sigmoid.add(Dense(100, input_dim = x.shape[1], kernel_initializer='uniform'))\n",
    "model4_sigmoid.add(Activation('tanh'))\n",
    "\n",
    "# First Hidden Layer\n",
    "model4_sigmoid.add(Dense(200, kernel_initializer='uniform'))\n",
    "model4_sigmoid.add(Activation('tanh'))\n",
    "model4_sigmoid.add(Dropout(0.1))\n",
    "\n",
    "# output\n",
    "model4_sigmoid.add(Dense(1, kernel_initializer='uniform'))\n",
    "model4_sigmoid.add(Activation('sigmoid'))\n",
    "\n",
    "sgd = SGD(lr=0.1, decay=1e-6, momentum=0.9, nesterov=True)\n",
    "model4_sigmoid.compile(loss='binary_crossentropy', metrics=['accuracy'], optimizer=sgd)\n",
    "\n",
    "model4_sigmoid.fit(x, y, epochs=5, batch_size=1000)\n",
    "roc_auc_score(y_test, model4_sigmoid.predict(x_test))"
   ]
  },
  {
   "cell_type": "markdown",
   "metadata": {},
   "source": [
    "### Part 3\n",
    "Take your best model from parts 1&2 and vary the batch size by at least 2 orders of magnitude\n",
    "\n",
    "#### Batch sizes of 100 and 10,000"
   ]
  },
  {
   "cell_type": "code",
   "execution_count": 71,
   "metadata": {},
   "outputs": [
    {
     "name": "stdout",
     "output_type": "stream",
     "text": [
      "Epoch 1/5\n",
      "1500000/1500000 [==============================] - 57s 38us/step - loss: 0.5882 - acc: 0.6845\n",
      "Epoch 2/5\n",
      "1500000/1500000 [==============================] - 54s 36us/step - loss: 0.5602 - acc: 0.7098\n",
      "Epoch 3/5\n",
      "1500000/1500000 [==============================] - 55s 37us/step - loss: 0.5485 - acc: 0.7195\n",
      "Epoch 4/5\n",
      "1500000/1500000 [==============================] - 54s 36us/step - loss: 0.5417 - acc: 0.7242\n",
      "Epoch 5/5\n",
      "1500000/1500000 [==============================] - 54s 36us/step - loss: 0.5377 - acc: 0.7268\n"
     ]
    },
    {
     "data": {
      "text/plain": [
       "0.8088964609753136"
      ]
     },
     "execution_count": 71,
     "metadata": {},
     "output_type": "execute_result"
    }
   ],
   "source": [
    "best_model = Sequential()\n",
    "\n",
    "# Input Layer\n",
    "best_model.add(Dense(100, input_dim = x.shape[1], kernel_initializer='uniform'))\n",
    "best_model.add(Activation('relu'))\n",
    "\n",
    "# First Hidden Layer\n",
    "best_model.add(Dense(200, kernel_initializer='uniform'))\n",
    "best_model.add(Activation('relu'))\n",
    "best_model.add(Dropout(0.1))\n",
    "\n",
    "# output\n",
    "best_model.add(Dense(1, kernel_initializer='uniform'))\n",
    "best_model.add(Activation('sigmoid'))\n",
    "\n",
    "sgd = SGD(lr=0.1, decay=1e-6, momentum=0.9, nesterov=True)\n",
    "best_model.compile(loss='binary_crossentropy', metrics=['accuracy'], optimizer=sgd)\n",
    "\n",
    "best_model.fit(x, y, epochs=5, batch_size=100)\n",
    "roc_auc_score(y_test, best_model.predict(x_test))"
   ]
  },
  {
   "cell_type": "code",
   "execution_count": 72,
   "metadata": {},
   "outputs": [
    {
     "name": "stdout",
     "output_type": "stream",
     "text": [
      "Epoch 1/5\n",
      "1500000/1500000 [==============================] - 13s 9us/step - loss: 0.6743 - acc: 0.5710\n",
      "Epoch 2/5\n",
      "1500000/1500000 [==============================] - 10s 7us/step - loss: 0.6274 - acc: 0.6458\n",
      "Epoch 3/5\n",
      "1500000/1500000 [==============================] - 10s 7us/step - loss: 0.6090 - acc: 0.6654\n",
      "Epoch 4/5\n",
      "1500000/1500000 [==============================] - 10s 7us/step - loss: 0.5959 - acc: 0.6789\n",
      "Epoch 5/5\n",
      "1500000/1500000 [==============================] - 10s 7us/step - loss: 0.5868 - acc: 0.6869\n"
     ]
    },
    {
     "data": {
      "text/plain": [
       "0.7657946292650923"
      ]
     },
     "execution_count": 72,
     "metadata": {},
     "output_type": "execute_result"
    }
   ],
   "source": [
    "best_model = Sequential()\n",
    "\n",
    "# Input Layer\n",
    "best_model.add(Dense(100, input_dim = x.shape[1], kernel_initializer='uniform'))\n",
    "best_model.add(Activation('relu'))\n",
    "\n",
    "# First Hidden Layer\n",
    "best_model.add(Dense(200, kernel_initializer='uniform'))\n",
    "best_model.add(Activation('relu'))\n",
    "best_model.add(Dropout(0.1))\n",
    "\n",
    "# output\n",
    "best_model.add(Dense(1, kernel_initializer='uniform'))\n",
    "best_model.add(Activation('sigmoid'))\n",
    "\n",
    "sgd = SGD(lr=0.1, decay=1e-6, momentum=0.9, nesterov=True)\n",
    "best_model.compile(loss='binary_crossentropy', metrics=['accuracy'], optimizer=sgd)\n",
    "\n",
    "best_model.fit(x, y, epochs=5, batch_size=10000)\n",
    "roc_auc_score(y_test, best_model.predict(x_test))"
   ]
  },
  {
   "cell_type": "markdown",
   "metadata": {},
   "source": [
    "#### Part 4\n",
    "Take your best model (score) from parts 1&2 and use 3 different kernel initializers. Use a reasonable batch size.\n",
    "\n",
    "Some kernel initializers decreased performance. I didn't find any that greatly improved performance."
   ]
  },
  {
   "cell_type": "code",
   "execution_count": 73,
   "metadata": {},
   "outputs": [
    {
     "name": "stdout",
     "output_type": "stream",
     "text": [
      "Epoch 1/5\n",
      "1500000/1500000 [==============================] - 17s 11us/step - loss: 0.6915 - acc: 0.5291\n",
      "Epoch 2/5\n",
      "1500000/1500000 [==============================] - 14s 10us/step - loss: 0.6915 - acc: 0.5292\n",
      "Epoch 3/5\n",
      "1500000/1500000 [==============================] - 15s 10us/step - loss: 0.6915 - acc: 0.5292\n",
      "Epoch 4/5\n",
      "1500000/1500000 [==============================] - 15s 10us/step - loss: 0.6915 - acc: 0.5292\n",
      "Epoch 5/5\n",
      "1500000/1500000 [==============================] - 15s 10us/step - loss: 0.6915 - acc: 0.5292\n"
     ]
    },
    {
     "data": {
      "text/plain": [
       "0.5"
      ]
     },
     "execution_count": 73,
     "metadata": {},
     "output_type": "execute_result"
    }
   ],
   "source": [
    "# Zeros\n",
    "best_model = Sequential()\n",
    "\n",
    "# Input Layer\n",
    "best_model.add(Dense(100, input_dim = x.shape[1], kernel_initializer='zeros'))\n",
    "best_model.add(Activation('relu'))\n",
    "\n",
    "# First Hidden Layer\n",
    "best_model.add(Dense(200, kernel_initializer='zeros'))\n",
    "best_model.add(Activation('relu'))\n",
    "best_model.add(Dropout(0.1))\n",
    "\n",
    "# output\n",
    "best_model.add(Dense(1, kernel_initializer='zeros'))\n",
    "best_model.add(Activation('sigmoid'))\n",
    "\n",
    "sgd = SGD(lr=0.1, decay=1e-6, momentum=0.9, nesterov=True)\n",
    "best_model.compile(loss='binary_crossentropy', metrics=['accuracy'], optimizer=sgd)\n",
    "\n",
    "best_model.fit(x, y, epochs=5, batch_size=1000)\n",
    "roc_auc_score(y_test, best_model.predict(x_test))"
   ]
  },
  {
   "cell_type": "code",
   "execution_count": 74,
   "metadata": {},
   "outputs": [
    {
     "name": "stdout",
     "output_type": "stream",
     "text": [
      "Epoch 1/5\n",
      "1500000/1500000 [==============================] - 17s 12us/step - loss: 0.5967 - acc: 0.6734\n",
      "Epoch 2/5\n",
      "1500000/1500000 [==============================] - 15s 10us/step - loss: 0.5555 - acc: 0.7115\n",
      "Epoch 3/5\n",
      "1500000/1500000 [==============================] - 14s 10us/step - loss: 0.5384 - acc: 0.7243\n",
      "Epoch 4/5\n",
      "1500000/1500000 [==============================] - 14s 10us/step - loss: 0.5268 - acc: 0.7324\n",
      "Epoch 5/5\n",
      "1500000/1500000 [==============================] - 14s 9us/step - loss: 0.5196 - acc: 0.7375\n"
     ]
    },
    {
     "data": {
      "text/plain": [
       "0.8209072021446804"
      ]
     },
     "execution_count": 74,
     "metadata": {},
     "output_type": "execute_result"
    }
   ],
   "source": [
    "# Normal\n",
    "best_model = Sequential()\n",
    "\n",
    "# Input Layer\n",
    "best_model.add(Dense(100, input_dim = x.shape[1], kernel_initializer='normal'))\n",
    "best_model.add(Activation('relu'))\n",
    "\n",
    "# First Hidden Layer\n",
    "best_model.add(Dense(200, kernel_initializer='normal'))\n",
    "best_model.add(Activation('relu'))\n",
    "best_model.add(Dropout(0.1))\n",
    "\n",
    "# output\n",
    "best_model.add(Dense(1, kernel_initializer='normal'))\n",
    "best_model.add(Activation('sigmoid'))\n",
    "\n",
    "sgd = SGD(lr=0.1, decay=1e-6, momentum=0.9, nesterov=True)\n",
    "best_model.compile(loss='binary_crossentropy', metrics=['accuracy'], optimizer=sgd)\n",
    "\n",
    "best_model.fit(x, y, epochs=5, batch_size=1000)\n",
    "roc_auc_score(y_test, best_model.predict(x_test))"
   ]
  },
  {
   "cell_type": "code",
   "execution_count": 75,
   "metadata": {},
   "outputs": [
    {
     "name": "stdout",
     "output_type": "stream",
     "text": [
      "Epoch 1/5\n",
      "1500000/1500000 [==============================] - 17s 11us/step - loss: 0.5978 - acc: 0.6742\n",
      "Epoch 2/5\n",
      "1500000/1500000 [==============================] - 14s 9us/step - loss: 0.5580 - acc: 0.7104\n",
      "Epoch 3/5\n",
      "1500000/1500000 [==============================] - 14s 9us/step - loss: 0.5413 - acc: 0.7233\n",
      "Epoch 4/5\n",
      "1500000/1500000 [==============================] - 14s 10us/step - loss: 0.5310 - acc: 0.7308\n",
      "Epoch 5/5\n",
      "1500000/1500000 [==============================] - 15s 10us/step - loss: 0.5243 - acc: 0.7353\n"
     ]
    },
    {
     "data": {
      "text/plain": [
       "0.8190581645863504"
      ]
     },
     "execution_count": 75,
     "metadata": {},
     "output_type": "execute_result"
    }
   ],
   "source": [
    "# glorot_uniform\n",
    "# glorot_uniform\n",
    "best_model = Sequential()\n",
    "\n",
    "# Input Layer\n",
    "best_model.add(Dense(100, input_dim = x.shape[1], kernel_initializer='glorot_uniform'))\n",
    "best_model.add(Activation('relu'))\n",
    "\n",
    "# First Hidden Layer\n",
    "best_model.add(Dense(200, kernel_initializer='glorot_uniform'))\n",
    "best_model.add(Activation('relu'))\n",
    "best_model.add(Dropout(0.1))\n",
    "\n",
    "# output\n",
    "best_model.add(Dense(1, kernel_initializer='glorot_uniform'))\n",
    "best_model.add(Activation('sigmoid'))\n",
    "\n",
    "sgd = SGD(lr=0.1, decay=1e-6, momentum=0.9, nesterov=True)\n",
    "best_model.compile(loss='binary_crossentropy', metrics=['accuracy'], optimizer=sgd)\n",
    "\n",
    "best_model.fit(x, y, epochs=5, batch_size=1000)\n",
    "roc_auc_score(y_test, best_model.predict(x_test))"
   ]
  },
  {
   "cell_type": "code",
   "execution_count": 76,
   "metadata": {},
   "outputs": [
    {
     "name": "stdout",
     "output_type": "stream",
     "text": [
      "Epoch 1/5\n",
      "1500000/1500000 [==============================] - 17s 12us/step - loss: 0.6011 - acc: 0.6716\n",
      "Epoch 2/5\n",
      "1500000/1500000 [==============================] - 15s 10us/step - loss: 0.5594 - acc: 0.7088\n",
      "Epoch 3/5\n",
      "1500000/1500000 [==============================] - 15s 10us/step - loss: 0.5420 - acc: 0.7221\n",
      "Epoch 4/5\n",
      "1500000/1500000 [==============================] - 15s 10us/step - loss: 0.5317 - acc: 0.7298\n",
      "Epoch 5/5\n",
      "1500000/1500000 [==============================] - 15s 10us/step - loss: 0.5250 - acc: 0.7346\n"
     ]
    },
    {
     "data": {
      "text/plain": [
       "0.8201600881403961"
      ]
     },
     "execution_count": 76,
     "metadata": {},
     "output_type": "execute_result"
    }
   ],
   "source": [
    "# lecon_lecun_normal\n",
    "# lecun_normal\n",
    "best_model = Sequential()\n",
    "\n",
    "# Input Layer\n",
    "best_model.add(Dense(100, input_dim = x.shape[1], kernel_initializer='lecun_normal'))\n",
    "best_model.add(Activation('relu'))\n",
    "\n",
    "# First Hidden Layer\n",
    "best_model.add(Dense(200, kernel_initializer='lecun_normal'))\n",
    "best_model.add(Activation('relu'))\n",
    "best_model.add(Dropout(0.1))\n",
    "\n",
    "# output\n",
    "best_model.add(Dense(1, kernel_initializer='lecun_normal'))\n",
    "best_model.add(Activation('sigmoid'))\n",
    "\n",
    "sgd = SGD(lr=0.1, decay=1e-6, momentum=0.9, nesterov=True)\n",
    "best_model.compile(loss='binary_crossentropy', metrics=['accuracy'], optimizer=sgd)\n",
    "\n",
    "best_model.fit(x, y, epochs=5, batch_size=1000)\n",
    "roc_auc_score(y_test, best_model.predict(x_test))"
   ]
  },
  {
   "cell_type": "code",
   "execution_count": 77,
   "metadata": {},
   "outputs": [
    {
     "name": "stdout",
     "output_type": "stream",
     "text": [
      "Epoch 1/5\n",
      "1500000/1500000 [==============================] - 17s 11us/step - loss: 0.6018 - acc: 0.6707\n",
      "Epoch 2/5\n",
      "1500000/1500000 [==============================] - 15s 10us/step - loss: 0.5624 - acc: 0.7074\n",
      "Epoch 3/5\n",
      "1500000/1500000 [==============================] - 14s 10us/step - loss: 0.5456 - acc: 0.7205\n",
      "Epoch 4/5\n",
      "1500000/1500000 [==============================] - 14s 10us/step - loss: 0.5351 - acc: 0.7281\n",
      "Epoch 5/5\n",
      "1500000/1500000 [==============================] - 15s 10us/step - loss: 0.5274 - acc: 0.7332\n"
     ]
    },
    {
     "data": {
      "text/plain": [
       "0.8185766944464924"
      ]
     },
     "execution_count": 77,
     "metadata": {},
     "output_type": "execute_result"
    }
   ],
   "source": [
    "best_model = Sequential()\n",
    "\n",
    "# Input Layer\n",
    "best_model.add(Dense(100, input_dim = x.shape[1], kernel_initializer='VarianceScaling'))\n",
    "best_model.add(Activation('relu'))\n",
    "\n",
    "# First Hidden Layer\n",
    "best_model.add(Dense(200, kernel_initializer='VarianceScaling'))\n",
    "best_model.add(Activation('relu'))\n",
    "best_model.add(Dropout(0.1))\n",
    "\n",
    "# output\n",
    "best_model.add(Dense(1, kernel_initializer='VarianceScaling'))\n",
    "best_model.add(Activation('sigmoid'))\n",
    "\n",
    "sgd = SGD(lr=0.1, decay=1e-6, momentum=0.9, nesterov=True)\n",
    "best_model.compile(loss='binary_crossentropy', metrics=['accuracy'], optimizer=sgd)\n",
    "\n",
    "best_model.fit(x, y, epochs=5, batch_size=1000)\n",
    "roc_auc_score(y_test, best_model.predict(x_test))"
   ]
  },
  {
   "cell_type": "markdown",
   "metadata": {},
   "source": [
    "#### Part 5 - Optimizers\n",
    "Take your best results from #3 and try 3 different optimizers."
   ]
  },
  {
   "cell_type": "code",
   "execution_count": 80,
   "metadata": {},
   "outputs": [
    {
     "name": "stdout",
     "output_type": "stream",
     "text": [
      "Epoch 1/5\n",
      "1500000/1500000 [==============================] - 18s 12us/step - loss: 0.6139 - acc: 0.6578\n",
      "Epoch 2/5\n",
      "1500000/1500000 [==============================] - 16s 10us/step - loss: 0.5736 - acc: 0.6973\n",
      "Epoch 3/5\n",
      "1500000/1500000 [==============================] - 15s 10us/step - loss: 0.5574 - acc: 0.7112\n",
      "Epoch 4/5\n",
      "1500000/1500000 [==============================] - 15s 10us/step - loss: 0.5466 - acc: 0.7193\n",
      "Epoch 5/5\n",
      "1500000/1500000 [==============================] - 15s 10us/step - loss: 0.5379 - acc: 0.7257\n"
     ]
    },
    {
     "data": {
      "text/plain": [
       "0.8075944749806508"
      ]
     },
     "execution_count": 80,
     "metadata": {},
     "output_type": "execute_result"
    }
   ],
   "source": [
    "# Normal\n",
    "best_model = Sequential()\n",
    "\n",
    "# Input Layer\n",
    "best_model.add(Dense(100, input_dim = x.shape[1], kernel_initializer='normal'))\n",
    "best_model.add(Activation('relu'))\n",
    "\n",
    "# First Hidden Layer\n",
    "best_model.add(Dense(200, kernel_initializer='normal'))\n",
    "best_model.add(Activation('relu'))\n",
    "best_model.add(Dropout(0.1))\n",
    "\n",
    "# output\n",
    "best_model.add(Dense(1, kernel_initializer='normal'))\n",
    "best_model.add(Activation('sigmoid'))\n",
    "\n",
    "rms = RMSprop(lr=0.001, rho=0.9, epsilon=None, decay=0.0)\n",
    "best_model.compile(loss='binary_crossentropy', metrics=['accuracy'], optimizer=rms)\n",
    "\n",
    "best_model.fit(x, y, epochs=5, batch_size=1000)\n",
    "roc_auc_score(y_test, best_model.predict(x_test))"
   ]
  },
  {
   "cell_type": "code",
   "execution_count": 84,
   "metadata": {},
   "outputs": [
    {
     "name": "stdout",
     "output_type": "stream",
     "text": [
      "Epoch 1/5\n",
      "1500000/1500000 [==============================] - 18s 12us/step - loss: 0.6156 - acc: 0.6545\n",
      "Epoch 2/5\n",
      "1500000/1500000 [==============================] - 15s 10us/step - loss: 0.5740 - acc: 0.6959\n",
      "Epoch 3/5\n",
      "1500000/1500000 [==============================] - 15s 10us/step - loss: 0.5578 - acc: 0.7097\n",
      "Epoch 4/5\n",
      "1500000/1500000 [==============================] - 15s 10us/step - loss: 0.5472 - acc: 0.7179\n",
      "Epoch 5/5\n",
      "1500000/1500000 [==============================] - 15s 10us/step - loss: 0.5385 - acc: 0.7245\n"
     ]
    },
    {
     "data": {
      "text/plain": [
       "0.8079452554585951"
      ]
     },
     "execution_count": 84,
     "metadata": {},
     "output_type": "execute_result"
    }
   ],
   "source": [
    "# Normal\n",
    "best_model = Sequential()\n",
    "\n",
    "# Input Layer\n",
    "best_model.add(Dense(100, input_dim = x.shape[1], kernel_initializer='normal'))\n",
    "best_model.add(Activation('relu'))\n",
    "\n",
    "# First Hidden Layer\n",
    "best_model.add(Dense(200, kernel_initializer='normal'))\n",
    "best_model.add(Activation('relu'))\n",
    "best_model.add(Dropout(0.1))\n",
    "\n",
    "# output\n",
    "best_model.add(Dense(1, kernel_initializer='normal'))\n",
    "best_model.add(Activation('sigmoid'))\n",
    "\n",
    "ada = Adadelta(lr=1.0, rho=0.95, epsilon=None, decay=0.0)\n",
    "best_model.compile(loss='binary_crossentropy', metrics=['accuracy'], optimizer=ada)\n",
    "\n",
    "best_model.fit(x, y, epochs=5, batch_size=1000)\n",
    "roc_auc_score(y_test, best_model.predict(x_test))"
   ]
  },
  {
   "cell_type": "code",
   "execution_count": 85,
   "metadata": {},
   "outputs": [
    {
     "name": "stdout",
     "output_type": "stream",
     "text": [
      "Epoch 1/5\n",
      "1500000/1500000 [==============================] - 18s 12us/step - loss: 0.5994 - acc: 0.6728\n",
      "Epoch 2/5\n",
      "1500000/1500000 [==============================] - 15s 10us/step - loss: 0.5630 - acc: 0.7068\n",
      "Epoch 3/5\n",
      "1500000/1500000 [==============================] - 15s 10us/step - loss: 0.5472 - acc: 0.7187\n",
      "Epoch 4/5\n",
      "1500000/1500000 [==============================] - 15s 10us/step - loss: 0.5359 - acc: 0.7270\n",
      "Epoch 5/5\n",
      "1500000/1500000 [==============================] - 15s 10us/step - loss: 0.5274 - acc: 0.7331\n"
     ]
    },
    {
     "data": {
      "text/plain": [
       "0.8168511284648247"
      ]
     },
     "execution_count": 85,
     "metadata": {},
     "output_type": "execute_result"
    }
   ],
   "source": [
    "# Normal\n",
    "best_model = Sequential()\n",
    "\n",
    "# Input Layer\n",
    "best_model.add(Dense(100, input_dim = x.shape[1], kernel_initializer='normal'))\n",
    "best_model.add(Activation('relu'))\n",
    "\n",
    "# First Hidden Layer\n",
    "best_model.add(Dense(200, kernel_initializer='normal'))\n",
    "best_model.add(Activation('relu'))\n",
    "best_model.add(Dropout(0.1))\n",
    "\n",
    "# output\n",
    "best_model.add(Dense(1, kernel_initializer='normal'))\n",
    "best_model.add(Activation('sigmoid'))\n",
    "\n",
    "adm = Adam(lr=0.001, beta_1=0.9, beta_2=0.999, epsilon=None, decay=0.0, amsgrad=False)\n",
    "best_model.compile(loss='binary_crossentropy', metrics=['accuracy'], optimizer=adm)\n",
    "\n",
    "best_model.fit(x, y, epochs=5, batch_size=1000)\n",
    "roc_auc_score(y_test, best_model.predict(x_test))"
   ]
  },
  {
   "cell_type": "markdown",
   "metadata": {},
   "source": [
    "#### Part 6:\n",
    "Take all that you’ve learned so far and give your best shot at producing a score. \n",
    "\n",
    "Best model so far is below with an acc of 0.7373 and a ROC of 0.82"
   ]
  },
  {
   "cell_type": "code",
   "execution_count": 4,
   "metadata": {},
   "outputs": [
    {
     "name": "stdout",
     "output_type": "stream",
     "text": [
      "Epoch 1/5\n",
      " 680000/1500000 [============>.................] - ETA: 15s - loss: 0.6718 - acc: 0.5834"
     ]
    },
    {
     "ename": "KeyboardInterrupt",
     "evalue": "",
     "output_type": "error",
     "traceback": [
      "\u001b[0;31m---------------------------------------------------------------------------\u001b[0m",
      "\u001b[0;31mKeyboardInterrupt\u001b[0m                         Traceback (most recent call last)",
      "\u001b[0;32m<ipython-input-4-7fb3e0452493>\u001b[0m in \u001b[0;36m<module>\u001b[0;34m()\u001b[0m\n\u001b[1;32m     18\u001b[0m \u001b[0mbest_model\u001b[0m\u001b[0;34m.\u001b[0m\u001b[0mcompile\u001b[0m\u001b[0;34m(\u001b[0m\u001b[0mloss\u001b[0m\u001b[0;34m=\u001b[0m\u001b[0;34m'binary_crossentropy'\u001b[0m\u001b[0;34m,\u001b[0m \u001b[0mmetrics\u001b[0m\u001b[0;34m=\u001b[0m\u001b[0;34m[\u001b[0m\u001b[0;34m'accuracy'\u001b[0m\u001b[0;34m]\u001b[0m\u001b[0;34m,\u001b[0m \u001b[0moptimizer\u001b[0m\u001b[0;34m=\u001b[0m\u001b[0msgd\u001b[0m\u001b[0;34m)\u001b[0m\u001b[0;34m\u001b[0m\u001b[0m\n\u001b[1;32m     19\u001b[0m \u001b[0;34m\u001b[0m\u001b[0m\n\u001b[0;32m---> 20\u001b[0;31m \u001b[0mbest_model\u001b[0m\u001b[0;34m.\u001b[0m\u001b[0mfit\u001b[0m\u001b[0;34m(\u001b[0m\u001b[0mx\u001b[0m\u001b[0;34m,\u001b[0m \u001b[0my\u001b[0m\u001b[0;34m,\u001b[0m \u001b[0mepochs\u001b[0m\u001b[0;34m=\u001b[0m\u001b[0;36m5\u001b[0m\u001b[0;34m,\u001b[0m \u001b[0mbatch_size\u001b[0m\u001b[0;34m=\u001b[0m\u001b[0;36m10000\u001b[0m\u001b[0;34m)\u001b[0m\u001b[0;34m\u001b[0m\u001b[0m\n\u001b[0m\u001b[1;32m     21\u001b[0m \u001b[0mroc_auc_score\u001b[0m\u001b[0;34m(\u001b[0m\u001b[0my_test\u001b[0m\u001b[0;34m,\u001b[0m \u001b[0mbest_model\u001b[0m\u001b[0;34m.\u001b[0m\u001b[0mpredict\u001b[0m\u001b[0;34m(\u001b[0m\u001b[0mx_test\u001b[0m\u001b[0;34m)\u001b[0m\u001b[0;34m)\u001b[0m\u001b[0;34m\u001b[0m\u001b[0m\n",
      "\u001b[0;32m~/anaconda3/lib/python3.6/site-packages/keras/engine/training.py\u001b[0m in \u001b[0;36mfit\u001b[0;34m(self, x, y, batch_size, epochs, verbose, callbacks, validation_split, validation_data, shuffle, class_weight, sample_weight, initial_epoch, steps_per_epoch, validation_steps, **kwargs)\u001b[0m\n\u001b[1;32m   1037\u001b[0m                                         \u001b[0minitial_epoch\u001b[0m\u001b[0;34m=\u001b[0m\u001b[0minitial_epoch\u001b[0m\u001b[0;34m,\u001b[0m\u001b[0;34m\u001b[0m\u001b[0m\n\u001b[1;32m   1038\u001b[0m                                         \u001b[0msteps_per_epoch\u001b[0m\u001b[0;34m=\u001b[0m\u001b[0msteps_per_epoch\u001b[0m\u001b[0;34m,\u001b[0m\u001b[0;34m\u001b[0m\u001b[0m\n\u001b[0;32m-> 1039\u001b[0;31m                                         validation_steps=validation_steps)\n\u001b[0m\u001b[1;32m   1040\u001b[0m \u001b[0;34m\u001b[0m\u001b[0m\n\u001b[1;32m   1041\u001b[0m     def evaluate(self, x=None, y=None,\n",
      "\u001b[0;32m~/anaconda3/lib/python3.6/site-packages/keras/engine/training_arrays.py\u001b[0m in \u001b[0;36mfit_loop\u001b[0;34m(model, f, ins, out_labels, batch_size, epochs, verbose, callbacks, val_f, val_ins, shuffle, callback_metrics, initial_epoch, steps_per_epoch, validation_steps)\u001b[0m\n\u001b[1;32m    197\u001b[0m                     \u001b[0mins_batch\u001b[0m\u001b[0;34m[\u001b[0m\u001b[0mi\u001b[0m\u001b[0;34m]\u001b[0m \u001b[0;34m=\u001b[0m \u001b[0mins_batch\u001b[0m\u001b[0;34m[\u001b[0m\u001b[0mi\u001b[0m\u001b[0;34m]\u001b[0m\u001b[0;34m.\u001b[0m\u001b[0mtoarray\u001b[0m\u001b[0;34m(\u001b[0m\u001b[0;34m)\u001b[0m\u001b[0;34m\u001b[0m\u001b[0m\n\u001b[1;32m    198\u001b[0m \u001b[0;34m\u001b[0m\u001b[0m\n\u001b[0;32m--> 199\u001b[0;31m                 \u001b[0mouts\u001b[0m \u001b[0;34m=\u001b[0m \u001b[0mf\u001b[0m\u001b[0;34m(\u001b[0m\u001b[0mins_batch\u001b[0m\u001b[0;34m)\u001b[0m\u001b[0;34m\u001b[0m\u001b[0m\n\u001b[0m\u001b[1;32m    200\u001b[0m                 \u001b[0mouts\u001b[0m \u001b[0;34m=\u001b[0m \u001b[0mto_list\u001b[0m\u001b[0;34m(\u001b[0m\u001b[0mouts\u001b[0m\u001b[0;34m)\u001b[0m\u001b[0;34m\u001b[0m\u001b[0m\n\u001b[1;32m    201\u001b[0m                 \u001b[0;32mfor\u001b[0m \u001b[0ml\u001b[0m\u001b[0;34m,\u001b[0m \u001b[0mo\u001b[0m \u001b[0;32min\u001b[0m \u001b[0mzip\u001b[0m\u001b[0;34m(\u001b[0m\u001b[0mout_labels\u001b[0m\u001b[0;34m,\u001b[0m \u001b[0mouts\u001b[0m\u001b[0;34m)\u001b[0m\u001b[0;34m:\u001b[0m\u001b[0;34m\u001b[0m\u001b[0m\n",
      "\u001b[0;32m~/anaconda3/lib/python3.6/site-packages/keras/backend/tensorflow_backend.py\u001b[0m in \u001b[0;36m__call__\u001b[0;34m(self, inputs)\u001b[0m\n\u001b[1;32m   2713\u001b[0m                 \u001b[0;32mreturn\u001b[0m \u001b[0mself\u001b[0m\u001b[0;34m.\u001b[0m\u001b[0m_legacy_call\u001b[0m\u001b[0;34m(\u001b[0m\u001b[0minputs\u001b[0m\u001b[0;34m)\u001b[0m\u001b[0;34m\u001b[0m\u001b[0m\n\u001b[1;32m   2714\u001b[0m \u001b[0;34m\u001b[0m\u001b[0m\n\u001b[0;32m-> 2715\u001b[0;31m             \u001b[0;32mreturn\u001b[0m \u001b[0mself\u001b[0m\u001b[0;34m.\u001b[0m\u001b[0m_call\u001b[0m\u001b[0;34m(\u001b[0m\u001b[0minputs\u001b[0m\u001b[0;34m)\u001b[0m\u001b[0;34m\u001b[0m\u001b[0m\n\u001b[0m\u001b[1;32m   2716\u001b[0m         \u001b[0;32melse\u001b[0m\u001b[0;34m:\u001b[0m\u001b[0;34m\u001b[0m\u001b[0m\n\u001b[1;32m   2717\u001b[0m             \u001b[0;32mif\u001b[0m \u001b[0mpy_any\u001b[0m\u001b[0;34m(\u001b[0m\u001b[0mis_tensor\u001b[0m\u001b[0;34m(\u001b[0m\u001b[0mx\u001b[0m\u001b[0;34m)\u001b[0m \u001b[0;32mfor\u001b[0m \u001b[0mx\u001b[0m \u001b[0;32min\u001b[0m \u001b[0minputs\u001b[0m\u001b[0;34m)\u001b[0m\u001b[0;34m:\u001b[0m\u001b[0;34m\u001b[0m\u001b[0m\n",
      "\u001b[0;32m~/anaconda3/lib/python3.6/site-packages/keras/backend/tensorflow_backend.py\u001b[0m in \u001b[0;36m_call\u001b[0;34m(self, inputs)\u001b[0m\n\u001b[1;32m   2673\u001b[0m             \u001b[0mfetched\u001b[0m \u001b[0;34m=\u001b[0m \u001b[0mself\u001b[0m\u001b[0;34m.\u001b[0m\u001b[0m_callable_fn\u001b[0m\u001b[0;34m(\u001b[0m\u001b[0;34m*\u001b[0m\u001b[0marray_vals\u001b[0m\u001b[0;34m,\u001b[0m \u001b[0mrun_metadata\u001b[0m\u001b[0;34m=\u001b[0m\u001b[0mself\u001b[0m\u001b[0;34m.\u001b[0m\u001b[0mrun_metadata\u001b[0m\u001b[0;34m)\u001b[0m\u001b[0;34m\u001b[0m\u001b[0m\n\u001b[1;32m   2674\u001b[0m         \u001b[0;32melse\u001b[0m\u001b[0;34m:\u001b[0m\u001b[0;34m\u001b[0m\u001b[0m\n\u001b[0;32m-> 2675\u001b[0;31m             \u001b[0mfetched\u001b[0m \u001b[0;34m=\u001b[0m \u001b[0mself\u001b[0m\u001b[0;34m.\u001b[0m\u001b[0m_callable_fn\u001b[0m\u001b[0;34m(\u001b[0m\u001b[0;34m*\u001b[0m\u001b[0marray_vals\u001b[0m\u001b[0;34m)\u001b[0m\u001b[0;34m\u001b[0m\u001b[0m\n\u001b[0m\u001b[1;32m   2676\u001b[0m         \u001b[0;32mreturn\u001b[0m \u001b[0mfetched\u001b[0m\u001b[0;34m[\u001b[0m\u001b[0;34m:\u001b[0m\u001b[0mlen\u001b[0m\u001b[0;34m(\u001b[0m\u001b[0mself\u001b[0m\u001b[0;34m.\u001b[0m\u001b[0moutputs\u001b[0m\u001b[0;34m)\u001b[0m\u001b[0;34m]\u001b[0m\u001b[0;34m\u001b[0m\u001b[0m\n\u001b[1;32m   2677\u001b[0m \u001b[0;34m\u001b[0m\u001b[0m\n",
      "\u001b[0;32m~/anaconda3/lib/python3.6/site-packages/tensorflow/python/client/session.py\u001b[0m in \u001b[0;36m__call__\u001b[0;34m(self, *args, **kwargs)\u001b[0m\n\u001b[1;32m   1437\u001b[0m           ret = tf_session.TF_SessionRunCallable(\n\u001b[1;32m   1438\u001b[0m               \u001b[0mself\u001b[0m\u001b[0;34m.\u001b[0m\u001b[0m_session\u001b[0m\u001b[0;34m.\u001b[0m\u001b[0m_session\u001b[0m\u001b[0;34m,\u001b[0m \u001b[0mself\u001b[0m\u001b[0;34m.\u001b[0m\u001b[0m_handle\u001b[0m\u001b[0;34m,\u001b[0m \u001b[0margs\u001b[0m\u001b[0;34m,\u001b[0m \u001b[0mstatus\u001b[0m\u001b[0;34m,\u001b[0m\u001b[0;34m\u001b[0m\u001b[0m\n\u001b[0;32m-> 1439\u001b[0;31m               run_metadata_ptr)\n\u001b[0m\u001b[1;32m   1440\u001b[0m         \u001b[0;32mif\u001b[0m \u001b[0mrun_metadata\u001b[0m\u001b[0;34m:\u001b[0m\u001b[0;34m\u001b[0m\u001b[0m\n\u001b[1;32m   1441\u001b[0m           \u001b[0mproto_data\u001b[0m \u001b[0;34m=\u001b[0m \u001b[0mtf_session\u001b[0m\u001b[0;34m.\u001b[0m\u001b[0mTF_GetBuffer\u001b[0m\u001b[0;34m(\u001b[0m\u001b[0mrun_metadata_ptr\u001b[0m\u001b[0;34m)\u001b[0m\u001b[0;34m\u001b[0m\u001b[0m\n",
      "\u001b[0;31mKeyboardInterrupt\u001b[0m: "
     ]
    }
   ],
   "source": [
    "# Normal\n",
    "best_model = Sequential()\n",
    "\n",
    "# Input Layer\n",
    "best_model.add(Dense(200, input_dim = x.shape[1], kernel_initializer='normal'))\n",
    "best_model.add(Activation('relu'))\n",
    "\n",
    "# First Hidden Layer\n",
    "best_model.add(Dense(300, kernel_initializer='normal'))\n",
    "best_model.add(Activation('relu'))\n",
    "best_model.add(Dropout(0.1))\n",
    "\n",
    "# output\n",
    "best_model.add(Dense(1, kernel_initializer='normal'))\n",
    "best_model.add(Activation('sigmoid'))\n",
    "\n",
    "sgd = SGD(lr=0.12, decay=1e-6, momentum=0.9, nesterov=True)\n",
    "best_model.compile(loss='binary_crossentropy', metrics=['accuracy'], optimizer=sgd)\n",
    "\n",
    "best_model.fit(x, y, epochs=5, batch_size=10000)\n",
    "roc_auc_score(y_test, best_model.predict(x_test))"
   ]
  },
  {
   "cell_type": "code",
   "execution_count": 6,
   "metadata": {},
   "outputs": [
    {
     "data": {
      "text/plain": [
       "(1500000, 28)"
      ]
     },
     "execution_count": 6,
     "metadata": {},
     "output_type": "execute_result"
    }
   ],
   "source": [
    "x.shape"
   ]
  },
  {
   "cell_type": "code",
   "execution_count": null,
   "metadata": {},
   "outputs": [],
   "source": []
  }
 ],
 "metadata": {
  "kernelspec": {
   "display_name": "Python 3",
   "language": "python",
   "name": "python3"
  },
  "language_info": {
   "codemirror_mode": {
    "name": "ipython",
    "version": 3
   },
   "file_extension": ".py",
   "mimetype": "text/x-python",
   "name": "python",
   "nbconvert_exporter": "python",
   "pygments_lexer": "ipython3",
   "version": "3.6.4"
  }
 },
 "nbformat": 4,
 "nbformat_minor": 2
}
