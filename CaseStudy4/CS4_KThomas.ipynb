{
 "cells": [
  {
   "cell_type": "markdown",
   "metadata": {},
   "source": [
    "# Assignment: Financial Applications of Time Series\n",
    "* Choose either the Signal Frontier Analysis application or Future Contract Rolling application.\n",
    "    * Case studies start on page 345\n",
    "* Use different stocks than those shown in examples.\n",
    "* Create iPython Notebook, including code, output, and graphics.\n",
    "* Include an introduction in your notebook to give background on your application.\n",
    "* Be sure to explain calculations and output in the appropriate places.\n",
    "* List outside references if used.\n",
    "\n",
    "\n",
    "Case study write-ups are to be “technical report ready,” which basically means that the write-up is suitable for public viewing.\n",
    "\n",
    "Your name must be at the beginning of the notebook.\n",
    "The notebook should divided into an abstract, an introduction, a methods section, a results section, and a future work/discussion/conclusion section.\n",
    "Use an easy-to-read variable-width font (I like Ariel, Helvetica, and Geneva font) with a minimum of 11 point font.\n",
    "Relevant code and output must be explained in the notebook as close to the code/output as possible.\n",
    "Any graphics generated using the code must be explained in the notebook as close to the graphic as possible.\n",
    "\n",
    "## MUST SUBMIT AS A WORD DOC IN ADDITION TO ANYTHING DONE IN IPYTHON"
   ]
  },
  {
   "cell_type": "code",
   "execution_count": 3,
   "metadata": {},
   "outputs": [],
   "source": [
    "from pandas import Series, DataFrame\n",
    "import pandas as pd\n",
    "import numpy as np\n",
    "import matplotlib.pyplot as plt\n",
    "from pandas_datareader import data as web\n",
    "from dateutil.parser import parse\n",
    "from pyfinance.ols import PandasRollingOLS\n",
    "pd.options.display.max_rows = 12\n",
    "np.set_printoptions(precision=4, suppress=True)\n"
   ]
  },
  {
   "cell_type": "code",
   "execution_count": 2,
   "metadata": {},
   "outputs": [],
   "source": [
    "## Signal Frontier Analysis"
   ]
  },
  {
   "cell_type": "code",
   "execution_count": 8,
   "metadata": {},
   "outputs": [
    {
     "data": {
      "text/plain": [
       "DatetimeIndex(['2019-02-25 00:00:00', '2019-02-25 00:15:00',\n",
       "               '2019-02-25 00:30:00', '2019-02-25 00:45:00',\n",
       "               '2019-02-25 01:00:00', '2019-02-25 01:15:00',\n",
       "               '2019-02-25 01:30:00', '2019-02-25 01:45:00',\n",
       "               '2019-02-25 02:00:00', '2019-02-25 02:15:00',\n",
       "               ...\n",
       "               '2019-04-25 21:30:00', '2019-04-25 21:45:00',\n",
       "               '2019-04-25 22:00:00', '2019-04-25 22:15:00',\n",
       "               '2019-04-25 22:30:00', '2019-04-25 22:45:00',\n",
       "               '2019-04-25 23:00:00', '2019-04-25 23:15:00',\n",
       "               '2019-04-25 23:30:00', '2019-04-25 23:45:00'],\n",
       "              dtype='datetime64[ns]', length=5760, freq='15T')"
      ]
     },
     "execution_count": 8,
     "metadata": {},
     "output_type": "execute_result"
    }
   ],
   "source": [
    "pd.date_range('2/25/2019', periods = 60*24*4, freq = '15min')"
   ]
  },
  {
   "cell_type": "code",
   "execution_count": 7,
   "metadata": {},
   "outputs": [
    {
     "data": {
      "text/plain": [
       "5760"
      ]
     },
     "execution_count": 7,
     "metadata": {},
     "output_type": "execute_result"
    }
   ],
   "source": []
  },
  {
   "cell_type": "code",
   "execution_count": null,
   "metadata": {},
   "outputs": [],
   "source": []
  }
 ],
 "metadata": {
  "kernelspec": {
   "display_name": "Python 3",
   "language": "python",
   "name": "python3"
  },
  "language_info": {
   "codemirror_mode": {
    "name": "ipython",
    "version": 3
   },
   "file_extension": ".py",
   "mimetype": "text/x-python",
   "name": "python",
   "nbconvert_exporter": "python",
   "pygments_lexer": "ipython3",
   "version": "3.6.4"
  }
 },
 "nbformat": 4,
 "nbformat_minor": 2
}
