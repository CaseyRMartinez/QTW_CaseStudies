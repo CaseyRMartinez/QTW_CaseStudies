{
 "cells": [
  {
   "cell_type": "code",
   "execution_count": 6,
   "metadata": {},
   "outputs": [],
   "source": [
    "spamPath = system.file(package = \"RSpamData\")"
   ]
  },
  {
   "cell_type": "code",
   "execution_count": 5,
   "metadata": {},
   "outputs": [
    {
     "ename": "ERROR",
     "evalue": "Error in library(RSpamData): there is no package called ‘RSpamData’\n",
     "output_type": "error",
     "traceback": [
      "Error in library(RSpamData): there is no package called ‘RSpamData’\nTraceback:\n",
      "1. library(RSpamData)",
      "2. stop(txt, domain = NA)"
     ]
    }
   ],
   "source": [
    "library(RSpamData)"
   ]
  },
  {
   "cell_type": "code",
   "execution_count": 8,
   "metadata": {},
   "outputs": [],
   "source": [
    "dirs = list.files(system.file(\"messages\", package = \"RSPamData\"), full.names = TRUE)"
   ]
  },
  {
   "cell_type": "code",
   "execution_count": 10,
   "metadata": {},
   "outputs": [],
   "source": [
    "dirs = list.files(system.file(\"messages\", package = \"RSPamData\"), full.names = TRUE)\n",
    "for(i in dirs) {\n",
    "  list.files(i, full.names = TRUE)\n",
    "}"
   ]
  },
  {
   "cell_type": "code",
   "execution_count": null,
   "metadata": {},
   "outputs": [],
   "source": []
  }
 ],
 "metadata": {
  "kernelspec": {
   "display_name": "R",
   "language": "R",
   "name": "ir"
  },
  "language_info": {
   "codemirror_mode": "r",
   "file_extension": ".r",
   "mimetype": "text/x-r-source",
   "name": "R",
   "pygments_lexer": "r",
   "version": "3.4.3"
  }
 },
 "nbformat": 4,
 "nbformat_minor": 2
}
