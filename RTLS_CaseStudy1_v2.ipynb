{
 "cells": [
  {
   "cell_type": "code",
   "execution_count": 12,
   "metadata": {},
   "outputs": [],
   "source": [
    "# Reading in data and verify it is the same set as the book\n",
    "path1 = 'C:/Users/casey/Dropbox/SMU_DataScience/MSDS_7333_QuantifyingTheWorld/Homework/CaseStudy1/offline.final.trace.txt'\n",
    "path2 = \"/home/kyle/Documents/thomaskh522@gmail.com/SMU/Quant the World/RTLS_CaseStudy/Data/offline_data.txt\"\n",
    "\n",
    "data = readLines(path1)"
   ]
  },
  {
   "cell_type": "code",
   "execution_count": 13,
   "metadata": {
    "scrolled": true
   },
   "outputs": [
    {
     "name": "stderr",
     "output_type": "stream",
     "text": [
      "Warning message in png(tf, width, height, \"in\", pointsize, bg, res, antialias = antialias):\n",
      "\"unable to open file 'C:\\Users\\casey\\AppData\\Local\\Temp\\RtmpUllek8\\file7441b6750f8.png' for writing\"Warning message in png(tf, width, height, \"in\", pointsize, bg, res, antialias = antialias):\n",
      "\"opening device failed\""
     ]
    },
    {
     "ename": "ERROR",
     "evalue": "Error in png(tf, width, height, \"in\", pointsize, bg, res, antialias = antialias): unable to start png() device\n",
     "output_type": "error",
     "traceback": [
      "Error in png(tf, width, height, \"in\", pointsize, bg, res, antialias = antialias): unable to start png() device\nTraceback:\n",
      "1. getData(data)",
      "2. plot(locCounts, type = \"n\", xlab = \"\", ylab = \"\")   # at line 25 of file <text>",
      "3. plot.default(locCounts, type = \"n\", xlab = \"\", ylab = \"\")",
      "4. plot.new()",
      "5. try(fun())",
      "6. tryCatch(expr, error = function(e) {\n .     call <- conditionCall(e)\n .     if (!is.null(call)) {\n .         if (identical(call[[1L]], quote(doTryCatch))) \n .             call <- sys.call(-4L)\n .         dcall <- deparse(call)[1L]\n .         prefix <- paste(\"Error in\", dcall, \": \")\n .         LONG <- 75L\n .         sm <- strsplit(conditionMessage(e), \"\\n\")[[1L]]\n .         w <- 14L + nchar(dcall, type = \"w\") + nchar(sm[1L], type = \"w\")\n .         if (is.na(w)) \n .             w <- 14L + nchar(dcall, type = \"b\") + nchar(sm[1L], \n .                 type = \"b\")\n .         if (w > LONG) \n .             prefix <- paste0(prefix, \"\\n  \")\n .     }\n .     else prefix <- \"Error : \"\n .     msg <- paste0(prefix, conditionMessage(e), \"\\n\")\n .     .Internal(seterrmessage(msg[1L]))\n .     if (!silent && isTRUE(getOption(\"show.error.messages\"))) {\n .         cat(msg, file = outFile)\n .         .Internal(printDeferredWarnings())\n .     }\n .     invisible(structure(msg, class = \"try-error\", condition = e))\n . })",
      "7. tryCatchList(expr, classes, parentenv, handlers)",
      "8. tryCatchOne(expr, names, parentenv, handlers[[1L]])",
      "9. doTryCatch(return(expr), name, parentenv, handler)",
      "10. fun()",
      "11. handle_output(TRUE)",
      "12. w$get_new(plot, incomplete_plots, output_handler$text, output_handler$graphics)",
      "13. graphics_callback(out$graphics)",
      "14. send_plot(last_recorded_plot)",
      "15. tryCatch({\n  .     formats[[mime]] <- mime2repr[[mime]](plotobj, attr(plotobj, \n  .         \".irkernel_width\"), attr(plotobj, \".irkernel_height\"))\n  . }, error = handle_error)"
     ]
    },
    {
     "data": {
      "text/plain": [
       "Plot with title \"ecdf(offline$orientation)\""
      ]
     },
     "metadata": {},
     "output_type": "display_data"
    },
    {
     "ename": "ERROR",
     "evalue": "Error in png(tf, width, height, \"in\", pointsize, bg, res, antialias = antialias): unable to start png() device\n",
     "output_type": "error",
     "traceback": [
      "Error in png(tf, width, height, \"in\", pointsize, bg, res, antialias = antialias): unable to start png() device\nTraceback:\n"
     ]
    },
    {
     "data": {
      "text/plain": [
       "plot without title"
      ]
     },
     "metadata": {},
     "output_type": "display_data"
    },
    {
     "ename": "ERROR",
     "evalue": "Error in png(tf, width, height, \"in\", pointsize, bg, res, antialias = antialias): unable to start png() device\n",
     "output_type": "error",
     "traceback": [
      "Error in png(tf, width, height, \"in\", pointsize, bg, res, antialias = antialias): unable to start png() device\nTraceback:\n"
     ]
    },
    {
     "data": {
      "text/plain": [
       "plot without title"
      ]
     },
     "metadata": {},
     "output_type": "display_data"
    }
   ],
   "source": [
    "getData = function(data){\n",
    "    options(error = recover, warn=1)\n",
    "    lines = data[substr(data,1,1) != \"#\"]\n",
    "    tmp = lapply(lines, processLine)\n",
    "    offline = as.data.frame(do.call(\"rbind\", tmp), stringsAsFactors = FALSE)\n",
    "    names(offline) = c(\"time\", \"scanMac\", \"posX\", \"posY\", \"posZ\", \"orientation\", \"mac\", \"signal\", \"channel\", \"type\")\n",
    "    numVars = c(\"time\", \"posX\", \"posY\", \"posZ\", \"orientation\", \"signal\")\n",
    "    offline[numVars] = lapply(offline[numVars], as.numeric)\n",
    "    offline = offline[offline$type == \"3\",]\n",
    "    offline = offline[, \"type\" != names(offline)]\n",
    "    offline$rawtime = offline$time\n",
    "    offline$time = offline$time/1000\n",
    "    class(offline$time) = c(\"POSIXt\", \"POSIXct\")\n",
    "    offline = offline[, !(names(offline) %in% c(\"scanMac\", \"posZ\"))]\n",
    "    plot(ecdf(offline$orientation))\n",
    "    offline$angle = roundOrientation(offline$orientation)\n",
    "    with(offline, boxplot(orientation ~ angle, xlab = \"nearest 45 degree angle\", ylab=\"orientation\"))\n",
    "    submac = names(sort(table(offline$mac), decreasing = TRUE))[1:7]\n",
    "    offline = offline[offline$mac %in% submac,]\n",
    "    offline = offline[, \"channel\" != names(offline)]\n",
    "    locDF = with(offline, by(offline, list(posX, posY), function(x) x))\n",
    "    locDF = locDF[ !sapply(locDF, is.null)]\n",
    "    locCounts = sapply(locDF, function(df) c(df[1, c(\"posX\", \"posY\")], count= nrow(df)))\n",
    "    locCounts = t(locCounts)\n",
    "    plot(locCounts, type=\"n\", xlab=\"\", ylab=\"\")\n",
    "    text(locCounts, labels = locCounts[,3], cex=0.8, srt = 45)\n",
    "    return(offline)\n",
    "}\n",
    "\n",
    "processLine = function(x){\n",
    "    tokens = strsplit(x, \"[;=,]\")[[1]]\n",
    "    \n",
    "    if (length(tokens) == 10)\n",
    "        return(NULL)\n",
    "    tmp = matrix(tokens[-(1:10)], ncol=4, byrow = TRUE)\n",
    "    cbind(matrix(tokens[c(2,4,6:8,10)], nrow = nrow(tmp), ncol=6, byrow=TRUE), tmp)\n",
    "}\n",
    "\n",
    "roundOrientation = function(angles) {\n",
    "    refs = seq(0, by = 45, length = 9)\n",
    "    q = sapply(angles, function(o) which.min(abs(o-refs)))\n",
    "    c(refs[1:8], 0)[q]\n",
    "}\n",
    "               \n",
    "offline = getData(data)"
   ]
  },
  {
   "cell_type": "code",
   "execution_count": 11,
   "metadata": {},
   "outputs": [],
   "source": [
    "readData = \n",
    "  function(filename = path1, \n",
    "           subMacs = c(\"00:0f:a3:39:e1:c0\", \"00:0f:a3:39:dd:cd\", \"00:14:bf:b1:97:8a\",\n",
    "                       \"00:14:bf:3b:c7:c6\", \"00:14:bf:b1:97:90\", \"00:14:bf:b1:97:8d\",\n",
    "                       \"00:14:bf:b1:97:81\"))\n",
    "  {\n",
    "    txt = readLines(filename)\n",
    "    lines = txt[ substr(txt, 1, 1) != \"#\" ]\n",
    "    tmp = lapply(lines, processLine)\n",
    "    offline = as.data.frame(do.call(\"rbind\", tmp), \n",
    "                            stringsAsFactors= FALSE) \n",
    "    \n",
    "    names(offline) = c(\"time\", \"scanMac\", \n",
    "                       \"posX\", \"posY\", \"posZ\", \"orientation\", \n",
    "                       \"mac\", \"signal\", \"channel\", \"type\")\n",
    "    \n",
    "     # keep only signals from access points\n",
    "    offline = offline[ offline$type == \"3\", ]\n",
    "    \n",
    "    # drop scanMac, posZ, channel, and type - no info in them\n",
    "    dropVars = c(\"scanMac\", \"posZ\", \"channel\", \"type\")\n",
    "    offline = offline[ , !( names(offline) %in% dropVars ) ]\n",
    "    \n",
    "    # drop more unwanted access points\n",
    "    offline = offline[ offline$mac %in% subMacs, ]\n",
    "    \n",
    "    # convert numeric values\n",
    "    numVars = c(\"time\", \"posX\", \"posY\", \"orientation\", \"signal\")\n",
    "    offline[ numVars ] = lapply(offline[ numVars ], as.numeric)\n",
    "\n",
    "    # convert time to POSIX\n",
    "    offline$rawTime = offline$time\n",
    "    offline$time = offline$time/1000\n",
    "    class(offline$time) = c(\"POSIXt\", \"POSIXct\")\n",
    "    \n",
    "    # round orientations to nearest 45\n",
    "    offline$angle = roundOrientation(offline$orientation)\n",
    "      \n",
    "    return(offline)\n",
    "  }\n",
    "\n",
    "offlineRedo = readData()"
   ]
  },
  {
   "cell_type": "code",
   "execution_count": 14,
   "metadata": {},
   "outputs": [
    {
     "data": {
      "text/html": [
       "FALSE"
      ],
      "text/latex": [
       "FALSE"
      ],
      "text/markdown": [
       "FALSE"
      ],
      "text/plain": [
       "[1] FALSE"
      ]
     },
     "metadata": {},
     "output_type": "display_data"
    }
   ],
   "source": [
    "identical(offline, offlineRedo)"
   ]
  },
  {
   "cell_type": "code",
   "execution_count": 15,
   "metadata": {},
   "outputs": [
    {
     "data": {
      "text/html": [
       "<strong>null device:</strong> 1"
      ],
      "text/latex": [
       "\\textbf{null device:} 1"
      ],
      "text/markdown": [
       "**null device:** 1"
      ],
      "text/plain": [
       "null device \n",
       "          1 "
      ]
     },
     "metadata": {},
     "output_type": "display_data"
    },
    {
     "data": {
      "text/plain": [
       "   Min. 1st Qu.  Median    Mean 3rd Qu.    Max. \n",
       " -98.00  -67.00  -59.00  -59.92  -53.00  -25.00 "
      ]
     },
     "metadata": {},
     "output_type": "display_data"
    },
    {
     "data": {
      "text/html": [
       "<strong>null device:</strong> 1"
      ],
      "text/latex": [
       "\\textbf{null device:} 1"
      ],
      "text/markdown": [
       "**null device:** 1"
      ],
      "text/plain": [
       "null device \n",
       "          1 "
      ]
     },
     "metadata": {},
     "output_type": "display_data"
    },
    {
     "ename": "ERROR",
     "evalue": "Error in png(tf, width, height, \"in\", pointsize, bg, res, antialias = antialias): unable to start png() device\n",
     "output_type": "error",
     "traceback": [
      "Error in png(tf, width, height, \"in\", pointsize, bg, res, antialias = antialias): unable to start png() device\nTraceback:\n"
     ]
    },
    {
     "data": {
      "text/plain": [
       "plot without title"
      ]
     },
     "metadata": {},
     "output_type": "display_data"
    }
   ],
   "source": [
    "#pdf(file = \"Geo_BoxplotSignalByMacAngle.pdf\", width = 7)\n",
    "oldPar = par(mar = c(3.1, 3, 1, 1))\n",
    "\n",
    "library(lattice)\n",
    "bwplot(signal ~ factor(angle) | mac, data = offline, \n",
    "       subset = posX == 2 & posY == 12 \n",
    "                & mac != \"00:0f:a3:39:dd:cd\", \n",
    "       layout = c(2,3))\n",
    "\n",
    "par(oldPar)\n",
    "dev.off()\n",
    "\n",
    "summary(offline$signal)\n",
    "\n",
    "#pdf(file = \"Geo_DensitySignalByMacAngle.pdf\", width = 8, height = 12)\n",
    "oldPar = par(mar = c(3.1, 3, 1, 1))\n",
    "\n",
    "densityplot( ~ signal | mac + factor(angle), data = offline,\n",
    "             subset = posX == 24 & posY == 4 & \n",
    "                         mac != \"00:0f:a3:39:dd:cd\",\n",
    "             bw = 0.5, plot.points = FALSE)\n",
    "\n",
    "par(oldPar)\n",
    "dev.off()"
   ]
  },
  {
   "cell_type": "code",
   "execution_count": 4,
   "metadata": {},
   "outputs": [
    {
     "data": {
      "image/png": "[encoded data removed]",
      "text/plain": [
       "plot without title"
      ]
     },
     "metadata": {},
     "output_type": "display_data"
    }
   ],
   "source": [
    "# plot missing MAC address\n",
    "\n",
    "library(lattice)\n",
    "bwplot(signal ~ factor(angle) | mac, data = offline,\n",
    "      subset = posX == 2 & posY == 12 & mac == \"00:0f:a3:39:dd:cd\")"
   ]
  },
  {
   "cell_type": "code",
   "execution_count": 5,
   "metadata": {},
   "outputs": [
    {
     "data": {
      "text/plain": [
       "   Min. 1st Qu.  Median    Mean 3rd Qu.    Max. \n",
       " -98.00  -67.00  -59.00  -59.92  -53.00  -25.00 "
      ]
     },
     "metadata": {},
     "output_type": "display_data"
    }
   ],
   "source": [
    "summary(offline$signal)"
   ]
  },
  {
   "cell_type": "code",
   "execution_count": 6,
   "metadata": {},
   "outputs": [
    {
     "data": {
      "image/png": "[encoded data removed]",
      "text/plain": [
       "plot without title"
      ]
     },
     "metadata": {},
     "output_type": "display_data"
    }
   ],
   "source": [
    "densityplot( ~ signal | mac + factor(angle), data = offline,\n",
    "           subset = posX == 2 & posY == 12 & mac != \"00:0f:a3:39:dd:cd\",\n",
    "           bw = 0.5, plot.points = FALSE)"
   ]
  },
  {
   "cell_type": "code",
   "execution_count": 7,
   "metadata": {},
   "outputs": [],
   "source": [
    "offline$posXY = paste(offline$posX, offline$posY, sep = \"-\")\n",
    "byLocAngleAP = with(offline, list(posXY, angle, mac), function(x) x)"
   ]
  },
  {
   "cell_type": "code",
   "execution_count": 8,
   "metadata": {},
   "outputs": [
    {
     "ename": "ERROR",
     "evalue": "Error in oneLoc[1, ]: incorrect number of dimensions\n",
     "output_type": "error",
     "traceback": [
      "Error in oneLoc[1, ]: incorrect number of dimensions\nTraceback:\n",
      "1. lapply(byLocAngleAP, function(oneLoc) {\n .     ans = oneLoc[1, ]\n .     ans$medSignal = median(oneLoc$signal)\n .     ans$avgSignal = mean(oneLoc$signal)\n .     ans$num = length(oneLoc$signal)\n .     ans$sdSignal = sd(oneLoc$signal)\n .     ans$iqrSignal = IQR(oneLoc$signal)\n .     ans\n . })",
      "2. FUN(X[[i]], ...)"
     ]
    }
   ],
   "source": [
    "signalSummary = lapply(byLocAngleAP, function(oneLoc){\n",
    "    ans = oneLoc[1, ]\n",
    "    ans$medSignal = median(oneLoc$signal)\n",
    "    ans$avgSignal = mean(oneLoc$signal)\n",
    "    ans$num = length(oneLoc$signal)\n",
    "    ans$sdSignal = sd(oneLoc$signal)\n",
    "    ans$iqrSignal = IQR(oneLoc$signal)\n",
    "    ans\n",
    "})"
   ]
  },
  {
   "cell_type": "code",
   "execution_count": 9,
   "metadata": {},
   "outputs": [
    {
     "ename": "ERROR",
     "evalue": "Error in do.call(\"rbind\", signalSummary): object 'signalSummary' not found\n",
     "output_type": "error",
     "traceback": [
      "Error in do.call(\"rbind\", signalSummary): object 'signalSummary' not found\nTraceback:\n",
      "1. do.call(\"rbind\", signalSummary)"
     ]
    }
   ],
   "source": [
    "offlineSummary = do.call(\"rbind\", signalSummary)"
   ]
  },
  {
   "cell_type": "code",
   "execution_count": 10,
   "metadata": {},
   "outputs": [
    {
     "ename": "ERROR",
     "evalue": "Error in eval(substitute(groups), data, environment(formula)): object 'offlineSummary' not found\n",
     "output_type": "error",
     "traceback": [
      "Error in eval(substitute(groups), data, environment(formula)): object 'offlineSummary' not found\nTraceback:\n",
      "1. bwplot(sdSignal ~ cut(avgSignal, breaks = breaks), data = offlineSummary, \n .     subset = mac != \"00:0f:a3:39:dd:cd\", xlab = \"Mean Signal\", \n .     ylab = \"SD Signal\")",
      "2. bwplot.formula(sdSignal ~ cut(avgSignal, breaks = breaks), data = offlineSummary, \n .     subset = mac != \"00:0f:a3:39:dd:cd\", xlab = \"Mean Signal\", \n .     ylab = \"SD Signal\")",
      "3. eval(substitute(groups), data, environment(formula))"
     ]
    }
   ],
   "source": [
    "breaks = seq(-90, -30, by = 5)\n",
    "bwplot(sdSignal ~ cut(avgSignal, breaks = breaks),\n",
    "      data = offlineSummary,\n",
    "      subset = mac != \"00:0f:a3:39:dd:cd\",\n",
    "      xlab = \"Mean Signal\",\n",
    "      ylab = \"SD Signal\")"
   ]
  },
  {
   "cell_type": "code",
   "execution_count": null,
   "metadata": {},
   "outputs": [],
   "source": []
  }
 ],
 "metadata": {
  "kernelspec": {
   "display_name": "R",
   "language": "R",
   "name": "ir"
  },
  "language_info": {
   "codemirror_mode": "r",
   "file_extension": ".r",
   "mimetype": "text/x-r-source",
   "name": "R",
   "pygments_lexer": "r",
   "version": "3.5.2"
  }
 },
 "nbformat": 4,
 "nbformat_minor": 2
}
