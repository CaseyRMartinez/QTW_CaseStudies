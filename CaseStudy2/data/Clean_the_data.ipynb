{
 "cells": [
  {
   "cell_type": "code",
   "execution_count": 1,
   "metadata": {},
   "outputs": [
    {
     "data": {
      "text/html": [
       "<ol class=list-inline>\n",
       "\t<li>'Clean_the_data.ipynb'</li>\n",
       "\t<li>'mens_003'</li>\n",
       "\t<li>'mens_2001'</li>\n",
       "\t<li>'mens_2002'</li>\n",
       "\t<li>'mens_2003'</li>\n",
       "\t<li>'mens_2004'</li>\n",
       "\t<li>'mens_2005'</li>\n",
       "\t<li>'mens_2006'</li>\n",
       "\t<li>'mens_2007'</li>\n",
       "\t<li>'mens_2008'</li>\n",
       "\t<li>'mens_2009'</li>\n",
       "\t<li>'mens_2010'</li>\n",
       "\t<li>'mens_2011'</li>\n",
       "\t<li>'mens_2012'</li>\n",
       "\t<li>'mens_99'</li>\n",
       "\t<li>'MSDS7333_Wk4_Cherry Blossom Data.ipynb'</li>\n",
       "\t<li>'MSDS7333_Wk4_Cherry Blossom Data.zip'</li>\n",
       "\t<li>'MSDS7333_Wk4_scrape'</li>\n",
       "\t<li>'MSDS7333_Wk4_scrape.zip'</li>\n",
       "\t<li>'MSDS7333_Wk4_Synch.pdf'</li>\n",
       "</ol>\n"
      ],
      "text/latex": [
       "\\begin{enumerate*}\n",
       "\\item 'Clean\\_the\\_data.ipynb'\n",
       "\\item 'mens\\_003'\n",
       "\\item 'mens\\_2001'\n",
       "\\item 'mens\\_2002'\n",
       "\\item 'mens\\_2003'\n",
       "\\item 'mens\\_2004'\n",
       "\\item 'mens\\_2005'\n",
       "\\item 'mens\\_2006'\n",
       "\\item 'mens\\_2007'\n",
       "\\item 'mens\\_2008'\n",
       "\\item 'mens\\_2009'\n",
       "\\item 'mens\\_2010'\n",
       "\\item 'mens\\_2011'\n",
       "\\item 'mens\\_2012'\n",
       "\\item 'mens\\_99'\n",
       "\\item 'MSDS7333\\_Wk4\\_Cherry Blossom Data.ipynb'\n",
       "\\item 'MSDS7333\\_Wk4\\_Cherry Blossom Data.zip'\n",
       "\\item 'MSDS7333\\_Wk4\\_scrape'\n",
       "\\item 'MSDS7333\\_Wk4\\_scrape.zip'\n",
       "\\item 'MSDS7333\\_Wk4\\_Synch.pdf'\n",
       "\\end{enumerate*}\n"
      ],
      "text/markdown": [
       "1. 'Clean_the_data.ipynb'\n",
       "2. 'mens_003'\n",
       "3. 'mens_2001'\n",
       "4. 'mens_2002'\n",
       "5. 'mens_2003'\n",
       "6. 'mens_2004'\n",
       "7. 'mens_2005'\n",
       "8. 'mens_2006'\n",
       "9. 'mens_2007'\n",
       "10. 'mens_2008'\n",
       "11. 'mens_2009'\n",
       "12. 'mens_2010'\n",
       "13. 'mens_2011'\n",
       "14. 'mens_2012'\n",
       "15. 'mens_99'\n",
       "16. 'MSDS7333_Wk4_Cherry Blossom Data.ipynb'\n",
       "17. 'MSDS7333_Wk4_Cherry Blossom Data.zip'\n",
       "18. 'MSDS7333_Wk4_scrape'\n",
       "19. 'MSDS7333_Wk4_scrape.zip'\n",
       "20. 'MSDS7333_Wk4_Synch.pdf'\n",
       "\n",
       "\n"
      ],
      "text/plain": [
       " [1] \"Clean_the_data.ipynb\"                  \n",
       " [2] \"mens_003\"                              \n",
       " [3] \"mens_2001\"                             \n",
       " [4] \"mens_2002\"                             \n",
       " [5] \"mens_2003\"                             \n",
       " [6] \"mens_2004\"                             \n",
       " [7] \"mens_2005\"                             \n",
       " [8] \"mens_2006\"                             \n",
       " [9] \"mens_2007\"                             \n",
       "[10] \"mens_2008\"                             \n",
       "[11] \"mens_2009\"                             \n",
       "[12] \"mens_2010\"                             \n",
       "[13] \"mens_2011\"                             \n",
       "[14] \"mens_2012\"                             \n",
       "[15] \"mens_99\"                               \n",
       "[16] \"MSDS7333_Wk4_Cherry Blossom Data.ipynb\"\n",
       "[17] \"MSDS7333_Wk4_Cherry Blossom Data.zip\"  \n",
       "[18] \"MSDS7333_Wk4_scrape\"                   \n",
       "[19] \"MSDS7333_Wk4_scrape.zip\"               \n",
       "[20] \"MSDS7333_Wk4_Synch.pdf\"                "
      ]
     },
     "metadata": {},
     "output_type": "display_data"
    }
   ],
   "source": [
    "list.files()"
   ]
  },
  {
   "cell_type": "code",
   "execution_count": 2,
   "metadata": {},
   "outputs": [
    {
     "ename": "ERROR",
     "evalue": "Error in scan(file = file, what = what, sep = sep, quote = quote, dec = dec, : line 1 did not have 9 elements\n",
     "output_type": "error",
     "traceback": [
      "Error in scan(file = file, what = what, sep = sep, quote = quote, dec = dec, : line 1 did not have 9 elements\nTraceback:\n",
      "1. read.table(\"mens_003\")",
      "2. scan(file = file, what = what, sep = sep, quote = quote, dec = dec, \n .     nmax = nrows, skip = 0, na.strings = na.strings, quiet = TRUE, \n .     fill = fill, strip.white = strip.white, blank.lines.skip = blank.lines.skip, \n .     multi.line = FALSE, comment.char = comment.char, allowEscapes = allowEscapes, \n .     flush = flush, encoding = encoding, skipNul = skipNul)"
     ]
    }
   ],
   "source": [
    "read.table('mens_003')"
   ]
  },
  {
   "cell_type": "code",
   "execution_count": null,
   "metadata": {},
   "outputs": [],
   "source": [
    "extractResTable =\n",
    "  #\n",
    "  # Retrieve data from web site, \n",
    "  # find the preformatted text,\n",
    "  # and write lines or return as a character vector.\n",
    "  #\n",
    "  function(url = \"http://www.cherryblossom.org/results/2009/09cucb-F.htm\",\n",
    "           year = 1999, sex = \"male\", file = NULL)\n",
    "  {\n",
    "    doc = htmlParse(url)\n",
    "\n",
    "    if (year == 2000) {\n",
    "      # Get preformatted text from 4th font element\n",
    "      # The top file is ill formed so the <pre> search doesn't work.\n",
    "      ff = getNodeSet(doc, \"//font\")\n",
    "      txt = xmlValue(ff[[4]])\n",
    "      els = strsplit(txt, \"\\r\\n\")[[1]]\n",
    "    }\n",
    "    else if (year == 2009 & sex == \"male\") {\n",
    "      # Get preformatted text from <div class=\"Section1\"> element\n",
    "      # Each line of results is in a <pre> element\n",
    "      div1 = getNodeSet(doc, \"//div[@class='Section1']\")\n",
    "      pres = getNodeSet(div1[[1]], \"//pre\")\n",
    "      els = sapply(pres, xmlValue)\n",
    "    }\n",
    "    else {\n",
    "      # Get preformatted text from <pre> elements\n",
    "      pres = getNodeSet(doc, \"//pre\")\n",
    "      txt = xmlValue(pres[[1]])\n",
    "      els = strsplit(txt, \"\\r\\n\")[[1]]   \n",
    "    } \n",
    "    \n",
    "    if (is.null(file)) return(els)\n",
    "    # Write the lines as a text file.\n",
    "    writeLines(els, con = file)\n",
    "  }"
   ]
  }
 ],
 "metadata": {
  "kernelspec": {
   "display_name": "R",
   "language": "R",
   "name": "ir"
  },
  "language_info": {
   "codemirror_mode": "r",
   "file_extension": ".r",
   "mimetype": "text/x-r-source",
   "name": "R",
   "pygments_lexer": "r",
   "version": "3.4.3"
  }
 },
 "nbformat": 4,
 "nbformat_minor": 2
}
